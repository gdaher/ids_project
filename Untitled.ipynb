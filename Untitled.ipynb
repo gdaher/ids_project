{
 "cells": [
  {
   "cell_type": "code",
   "execution_count": 3,
   "metadata": {
    "collapsed": true
   },
   "outputs": [],
   "source": [
    "import pandas as pd\n",
    "import os"
   ]
  },
  {
   "cell_type": "code",
   "execution_count": 11,
   "metadata": {},
   "outputs": [
    {
     "data": {
      "text/plain": [
       "<bound method Series.unique of 0                          Full Time Employee\n",
       "1                                   Full Time\n",
       "2                         Full Time, Employee\n",
       "3                                   Full Time\n",
       "4                          Full Time Employee\n",
       "5                          Full Time Employee\n",
       "6                         Full Time, Employee\n",
       "7                          Full Time Employee\n",
       "8                          Part Time Employee\n",
       "9                                         NaN\n",
       "10                                  Full Time\n",
       "11                         Full Time Employee\n",
       "12                                  Full Time\n",
       "13                                  Full Time\n",
       "14                         Full Time Employee\n",
       "15                         Full Time Employee\n",
       "16                                        NaN\n",
       "17                        Full Time, Employee\n",
       "18                                  Full Time\n",
       "19                                  Full Time\n",
       "20                        Full Time, Employee\n",
       "21       Full Time Temporary/Contract/Project\n",
       "22                                        NaN\n",
       "23                                  Full Time\n",
       "24                                  Full Time\n",
       "25                                  Full Time\n",
       "26                                        NaN\n",
       "27                         Full Time Employee\n",
       "28                         Full Time Employee\n",
       "29                         Full Time Employee\n",
       "                         ...                 \n",
       "21970                               Full Time\n",
       "21971                               Full Time\n",
       "21972                      Full Time Employee\n",
       "21973                      Full Time Employee\n",
       "21974    Full Time Temporary/Contract/Project\n",
       "21975                     Full Time, Employee\n",
       "21976                               Full Time\n",
       "21977                      Full Time Employee\n",
       "21978                               Part Time\n",
       "21979                               Full Time\n",
       "21980                               Full Time\n",
       "21981                               Full Time\n",
       "21982                      Full Time Employee\n",
       "21983                      Full Time Employee\n",
       "21984                               Part Time\n",
       "21985                               Full Time\n",
       "21986                               Full Time\n",
       "21987                               Full Time\n",
       "21988                               Full Time\n",
       "21989    Full Time Temporary/Contract/Project\n",
       "21990                      Full Time Employee\n",
       "21991                      Full Time Employee\n",
       "21992                      Full Time Employee\n",
       "21993    Full Time Temporary/Contract/Project\n",
       "21994                               Part Time\n",
       "21995                               Full Time\n",
       "21996                               Full Time\n",
       "21997                               Full Time\n",
       "21998                      Full Time Employee\n",
       "21999                               Full Time\n",
       "Name: job_type, Length: 22000, dtype: object>"
      ]
     },
     "execution_count": 11,
     "metadata": {},
     "output_type": "execute_result"
    }
   ],
   "source": [
    "# Read in data\n",
    "data = pd.read_csv('monster_com-job_sample.csv')\n",
    "data.columns\n",
    "\n",
    "data.job_type.unique"
   ]
  },
  {
   "cell_type": "code",
   "execution_count": null,
   "metadata": {
    "collapsed": true
   },
   "outputs": [],
   "source": []
  }
 ],
 "metadata": {
  "kernelspec": {
   "display_name": "Python 2",
   "language": "python",
   "name": "python2"
  },
  "language_info": {
   "codemirror_mode": {
    "name": "ipython",
    "version": 2
   },
   "file_extension": ".py",
   "mimetype": "text/x-python",
   "name": "python",
   "nbconvert_exporter": "python",
   "pygments_lexer": "ipython2",
   "version": "2.7.13"
  }
 },
 "nbformat": 4,
 "nbformat_minor": 2
}
