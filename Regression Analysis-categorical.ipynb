{
 "cells": [
  {
   "cell_type": "code",
   "execution_count": 127,
   "metadata": {},
   "outputs": [],
   "source": [
    "## Import libraries\n",
    "#general\n",
    "import pandas as pd\n",
    "import os\n",
    "import numpy as np\n",
    "from sklearn import tree\n",
    "import graphviz\n",
    "from sklearn.tree import DecisionTreeRegressor\n",
    "from sklearn.ensemble import RandomForestClassifier\n",
    "from sklearn.preprocessing import LabelEncoder, PolynomialFeatures, StandardScaler\n",
    "from sklearn.model_selection import cross_val_score, train_test_split\n",
    "from sklearn.ensemble import BaggingRegressor, RandomForestRegressor\n",
    "from sklearn.linear_model import LinearRegression\n",
    "from sklearn.linear_model import LogisticRegression\n",
    "from sklearn.model_selection import train_test_split\n",
    "from sklearn import metrics\n",
    "from sklearn.preprocessing import LabelEncoder\n",
    "from sklearn.preprocessing import OneHotEncoder\n",
    "import scipy.stats as stats\n",
    "import re\n",
    "from sklearn.externals.six import StringIO\n",
    "\n",
    "\n",
    "#visualization\n",
    "%matplotlib inline\n",
    "import seaborn as sns\n",
    "import matplotlib.pyplot as plt\n",
    "from IPython.display import Image\n",
    "import pydotplus\n",
    "from sklearn.tree import export_graphviz"
   ]
  },
  {
   "cell_type": "code",
   "execution_count": 13,
   "metadata": {},
   "outputs": [
    {
     "data": {
      "text/plain": [
       "Index([u'country', u'country_code', u'date_added', u'has_expired',\n",
       "       u'job_board', u'job_description', u'job_title', u'job_type',\n",
       "       u'location', u'organization', u'page_url', u'salary', u'sector',\n",
       "       u'uniq_id'],\n",
       "      dtype='object')"
      ]
     },
     "execution_count": 13,
     "metadata": {},
     "output_type": "execute_result"
    }
   ],
   "source": [
    "## Read in data\n",
    "data = pd.read_csv('monster_com-job_sample.csv')\n",
    "data.columns"
   ]
  },
  {
   "cell_type": "code",
   "execution_count": 14,
   "metadata": {},
   "outputs": [
    {
     "ename": "KeyboardInterrupt",
     "evalue": "",
     "output_type": "error",
     "traceback": [
      "\u001b[1;31m---------------------------------------------------------------------------\u001b[0m",
      "\u001b[1;31mKeyboardInterrupt\u001b[0m                         Traceback (most recent call last)",
      "\u001b[1;32m<ipython-input-14-ea63e08b8e1f>\u001b[0m in \u001b[0;36m<module>\u001b[1;34m()\u001b[0m\n\u001b[0;32m     14\u001b[0m     \u001b[0mdata\u001b[0m\u001b[1;33m[\u001b[0m\u001b[1;34m'full_time'\u001b[0m\u001b[1;33m]\u001b[0m\u001b[1;33m[\u001b[0m\u001b[0mindex\u001b[0m\u001b[1;33m]\u001b[0m\u001b[1;33m=\u001b[0m\u001b[0mbool\u001b[0m\u001b[1;33m(\u001b[0m\u001b[0mre\u001b[0m\u001b[1;33m.\u001b[0m\u001b[0msearch\u001b[0m\u001b[1;33m(\u001b[0m\u001b[1;34m'Full Time'\u001b[0m\u001b[1;33m,\u001b[0m\u001b[0mstr\u001b[0m\u001b[1;33m(\u001b[0m\u001b[0mdata\u001b[0m\u001b[1;33m.\u001b[0m\u001b[0mjob_type\u001b[0m\u001b[1;33m[\u001b[0m\u001b[0mindex\u001b[0m\u001b[1;33m]\u001b[0m\u001b[1;33m)\u001b[0m\u001b[1;33m)\u001b[0m\u001b[1;33m)\u001b[0m\u001b[1;33m\u001b[0m\u001b[0m\n\u001b[0;32m     15\u001b[0m     \u001b[0mdata\u001b[0m\u001b[1;33m[\u001b[0m\u001b[1;34m'part_time'\u001b[0m\u001b[1;33m]\u001b[0m\u001b[1;33m[\u001b[0m\u001b[0mindex\u001b[0m\u001b[1;33m]\u001b[0m\u001b[1;33m=\u001b[0m\u001b[0mbool\u001b[0m\u001b[1;33m(\u001b[0m\u001b[0mre\u001b[0m\u001b[1;33m.\u001b[0m\u001b[0msearch\u001b[0m\u001b[1;33m(\u001b[0m\u001b[1;34m'(part)|(Part)'\u001b[0m\u001b[1;33m,\u001b[0m\u001b[0mstr\u001b[0m\u001b[1;33m(\u001b[0m\u001b[0mdata\u001b[0m\u001b[1;33m.\u001b[0m\u001b[0mjob_type\u001b[0m\u001b[1;33m[\u001b[0m\u001b[0mindex\u001b[0m\u001b[1;33m]\u001b[0m\u001b[1;33m)\u001b[0m\u001b[1;33m)\u001b[0m\u001b[1;33m)\u001b[0m\u001b[1;33m\u001b[0m\u001b[0m\n\u001b[1;32m---> 16\u001b[1;33m     \u001b[0mdata\u001b[0m\u001b[1;33m[\u001b[0m\u001b[1;34m'analyst'\u001b[0m\u001b[1;33m]\u001b[0m\u001b[1;33m[\u001b[0m\u001b[0mindex\u001b[0m\u001b[1;33m]\u001b[0m\u001b[1;33m=\u001b[0m\u001b[0mbool\u001b[0m\u001b[1;33m(\u001b[0m\u001b[0mre\u001b[0m\u001b[1;33m.\u001b[0m\u001b[0msearch\u001b[0m\u001b[1;33m(\u001b[0m\u001b[1;34m'(analyst)|(Analyst)'\u001b[0m\u001b[1;33m,\u001b[0m\u001b[0mstr\u001b[0m\u001b[1;33m(\u001b[0m\u001b[0mdata\u001b[0m\u001b[1;33m.\u001b[0m\u001b[0mjob_title\u001b[0m\u001b[1;33m[\u001b[0m\u001b[0mindex\u001b[0m\u001b[1;33m]\u001b[0m\u001b[1;33m)\u001b[0m\u001b[1;33m)\u001b[0m\u001b[1;33m)\u001b[0m\u001b[1;33m\u001b[0m\u001b[0m\n\u001b[0m\u001b[0;32m     17\u001b[0m \u001b[1;33m\u001b[0m\u001b[0m\n\u001b[0;32m     18\u001b[0m \u001b[1;31m#extract salary ranges\u001b[0m\u001b[1;33m\u001b[0m\u001b[1;33m\u001b[0m\u001b[0m\n",
      "\u001b[1;32mC:\\Users\\daherg\\AppData\\Local\\Continuum\\Anaconda2\\lib\\site-packages\\pandas\\core\\generic.pyc\u001b[0m in \u001b[0;36m__getattr__\u001b[1;34m(self, name)\u001b[0m\n\u001b[0;32m   2966\u001b[0m             \u001b[1;32mreturn\u001b[0m \u001b[0mobject\u001b[0m\u001b[1;33m.\u001b[0m\u001b[0m__getattribute__\u001b[0m\u001b[1;33m(\u001b[0m\u001b[0mself\u001b[0m\u001b[1;33m,\u001b[0m \u001b[0mname\u001b[0m\u001b[1;33m)\u001b[0m\u001b[1;33m\u001b[0m\u001b[0m\n\u001b[0;32m   2967\u001b[0m         \u001b[1;32melse\u001b[0m\u001b[1;33m:\u001b[0m\u001b[1;33m\u001b[0m\u001b[0m\n\u001b[1;32m-> 2968\u001b[1;33m             \u001b[1;32mif\u001b[0m \u001b[0mname\u001b[0m \u001b[1;32min\u001b[0m \u001b[0mself\u001b[0m\u001b[1;33m.\u001b[0m\u001b[0m_info_axis\u001b[0m\u001b[1;33m:\u001b[0m\u001b[1;33m\u001b[0m\u001b[0m\n\u001b[0m\u001b[0;32m   2969\u001b[0m                 \u001b[1;32mreturn\u001b[0m \u001b[0mself\u001b[0m\u001b[1;33m[\u001b[0m\u001b[0mname\u001b[0m\u001b[1;33m]\u001b[0m\u001b[1;33m\u001b[0m\u001b[0m\n\u001b[0;32m   2970\u001b[0m             \u001b[1;32mreturn\u001b[0m \u001b[0mobject\u001b[0m\u001b[1;33m.\u001b[0m\u001b[0m__getattribute__\u001b[0m\u001b[1;33m(\u001b[0m\u001b[0mself\u001b[0m\u001b[1;33m,\u001b[0m \u001b[0mname\u001b[0m\u001b[1;33m)\u001b[0m\u001b[1;33m\u001b[0m\u001b[0m\n",
      "\u001b[1;32mC:\\Users\\daherg\\AppData\\Local\\Continuum\\Anaconda2\\lib\\site-packages\\pandas\\core\\indexes\\base.pyc\u001b[0m in \u001b[0;36m__contains__\u001b[1;34m(self, key)\u001b[0m\n\u001b[0;32m   1590\u001b[0m         \u001b[0mhash\u001b[0m\u001b[1;33m(\u001b[0m\u001b[0mkey\u001b[0m\u001b[1;33m)\u001b[0m\u001b[1;33m\u001b[0m\u001b[0m\n\u001b[0;32m   1591\u001b[0m         \u001b[1;32mtry\u001b[0m\u001b[1;33m:\u001b[0m\u001b[1;33m\u001b[0m\u001b[0m\n\u001b[1;32m-> 1592\u001b[1;33m             \u001b[1;32mreturn\u001b[0m \u001b[0mkey\u001b[0m \u001b[1;32min\u001b[0m \u001b[0mself\u001b[0m\u001b[1;33m.\u001b[0m\u001b[0m_engine\u001b[0m\u001b[1;33m\u001b[0m\u001b[0m\n\u001b[0m\u001b[0;32m   1593\u001b[0m         \u001b[1;32mexcept\u001b[0m \u001b[0mTypeError\u001b[0m\u001b[1;33m:\u001b[0m\u001b[1;33m\u001b[0m\u001b[0m\n\u001b[0;32m   1594\u001b[0m             \u001b[1;32mreturn\u001b[0m \u001b[0mFalse\u001b[0m\u001b[1;33m\u001b[0m\u001b[0m\n",
      "\u001b[1;31mKeyboardInterrupt\u001b[0m: "
     ]
    }
   ],
   "source": [
    "## Parse salary data and prepare dataset\n",
    "#data['numbers']=''\n",
    "data['yearly'] = ''\n",
    "data['hourly'] =''\n",
    "data['full_time']=''\n",
    "data['part_time']=''\n",
    "data['analyst']=''\n",
    "\n",
    "for index in data.salary.index:\n",
    "\n",
    "    #data['numbers'][index]=bool(re.match(r'([0-9]+[^0-9]+)',str(data.salary[index])))\n",
    "    data['yearly'][index]=bool(re.search('\\$ /year',str(data.salary[index])))\n",
    "    data['hourly'][index]=bool(re.search('\\$ /hour',str(data.salary[index])))\n",
    "    data['full_time'][index]=bool(re.search('Full Time',str(data.job_type[index])))\n",
    "    data['part_time'][index]=bool(re.search('(part)|(Part)',str(data.job_type[index])))\n",
    "    data['analyst'][index]=bool(re.search('(analyst)|(Analyst)',str(data.job_title[index])))\n",
    "\n",
    "#extract salary ranges\n",
    "ranges=data.salary.str.extract(r'([0-9\\.\\,\\s]+.\\-[0-9\\.\\,\\s]+)',expand=True).rename(columns={0:'ranges'})\n",
    "data=data.join(ranges)\n",
    "\n",
    "#extract numbers\n",
    "numbers=data.salary.str.extract(r'([0-9]+\\s)',expand=True,).rename(columns={0:'numbers'})\n",
    "data=data.join(numbers)\n",
    "\n",
    "#parse salary ranges\n",
    "df=data['ranges'].str.split('-',expand=True).rename(columns={0:'lowest',1:'highest'})\n",
    "data=data.join(df)\n",
    "\n",
    "#convert columns to numeric\n",
    "numeric=pd.Index([u'lowest',u'highest',u'numbers'])\n",
    "\n",
    "for i in numeric:\n",
    "    data[i]=data[i].str.replace(' ','')\n",
    "    data[i]=data[i].str.replace(',','')\n",
    "    data[i]=pd.to_numeric(data[i])\n",
    "\n",
    "\n",
    "\n"
   ]
  },
  {
   "cell_type": "code",
   "execution_count": 269,
   "metadata": {
    "scrolled": true
   },
   "outputs": [
    {
     "name": "stderr",
     "output_type": "stream",
     "text": [
      "C:\\Users\\daherg\\AppData\\Local\\Continuum\\Anaconda2\\lib\\site-packages\\ipykernel_launcher.py:6: SettingWithCopyWarning: \n",
      "A value is trying to be set on a copy of a slice from a DataFrame\n",
      "\n",
      "See the caveats in the documentation: http://pandas.pydata.org/pandas-docs/stable/indexing.html#indexing-view-versus-copy\n",
      "  \n",
      "C:\\Users\\daherg\\AppData\\Local\\Continuum\\Anaconda2\\lib\\site-packages\\ipykernel_launcher.py:8: SettingWithCopyWarning: \n",
      "A value is trying to be set on a copy of a slice from a DataFrame\n",
      "\n",
      "See the caveats in the documentation: http://pandas.pydata.org/pandas-docs/stable/indexing.html#indexing-view-versus-copy\n",
      "  \n"
     ]
    },
    {
     "ename": "KeyboardInterrupt",
     "evalue": "",
     "output_type": "error",
     "traceback": [
      "\u001b[1;31m---------------------------------------------------------------------------\u001b[0m",
      "\u001b[1;31mKeyboardInterrupt\u001b[0m                         Traceback (most recent call last)",
      "\u001b[1;32m<ipython-input-269-b570b35620b8>\u001b[0m in \u001b[0;36m<module>\u001b[1;34m()\u001b[0m\n\u001b[0;32m      4\u001b[0m             \u001b[1;32mif\u001b[0m \u001b[1;33m(\u001b[0m\u001b[0mdata\u001b[0m\u001b[1;33m.\u001b[0m\u001b[0mhourly\u001b[0m\u001b[1;33m[\u001b[0m\u001b[0mindex\u001b[0m\u001b[1;33m]\u001b[0m\u001b[1;33m==\u001b[0m\u001b[0mTrue\u001b[0m\u001b[1;33m)\u001b[0m\u001b[1;33m:\u001b[0m\u001b[1;33m\u001b[0m\u001b[0m\n\u001b[0;32m      5\u001b[0m                 \u001b[1;32mif\u001b[0m\u001b[1;33m(\u001b[0m\u001b[0mdata\u001b[0m\u001b[1;33m.\u001b[0m\u001b[0mpart_time\u001b[0m\u001b[1;33m[\u001b[0m\u001b[0mindex\u001b[0m\u001b[1;33m]\u001b[0m\u001b[1;33m==\u001b[0m\u001b[0mFalse\u001b[0m\u001b[1;33m)\u001b[0m\u001b[1;33m:\u001b[0m\u001b[1;33m\u001b[0m\u001b[0m\n\u001b[1;32m----> 6\u001b[1;33m                     \u001b[0mdata\u001b[0m\u001b[1;33m[\u001b[0m\u001b[0mi\u001b[0m\u001b[1;33m]\u001b[0m\u001b[1;33m[\u001b[0m\u001b[0mindex\u001b[0m\u001b[1;33m]\u001b[0m\u001b[1;33m=\u001b[0m\u001b[0mdata\u001b[0m\u001b[1;33m[\u001b[0m\u001b[0mi\u001b[0m\u001b[1;33m]\u001b[0m\u001b[1;33m[\u001b[0m\u001b[0mindex\u001b[0m\u001b[1;33m]\u001b[0m\u001b[1;33m*\u001b[0m\u001b[1;36m40\u001b[0m\u001b[1;33m*\u001b[0m\u001b[1;36m52\u001b[0m\u001b[1;33m\u001b[0m\u001b[0m\n\u001b[0m\u001b[0;32m      7\u001b[0m                 \u001b[1;32melse\u001b[0m\u001b[1;33m:\u001b[0m\u001b[1;33m\u001b[0m\u001b[0m\n\u001b[0;32m      8\u001b[0m                    \u001b[0mdata\u001b[0m\u001b[1;33m[\u001b[0m\u001b[0mi\u001b[0m\u001b[1;33m]\u001b[0m\u001b[1;33m[\u001b[0m\u001b[0mindex\u001b[0m\u001b[1;33m]\u001b[0m\u001b[1;33m=\u001b[0m\u001b[0mdata\u001b[0m\u001b[1;33m[\u001b[0m\u001b[0mi\u001b[0m\u001b[1;33m]\u001b[0m\u001b[1;33m[\u001b[0m\u001b[0mindex\u001b[0m\u001b[1;33m]\u001b[0m\u001b[1;33m*\u001b[0m\u001b[1;36m20\u001b[0m\u001b[1;33m*\u001b[0m\u001b[1;36m52\u001b[0m\u001b[1;33m\u001b[0m\u001b[0m\n",
      "\u001b[1;32mC:\\Users\\daherg\\AppData\\Local\\Continuum\\Anaconda2\\lib\\site-packages\\pandas\\core\\series.pyc\u001b[0m in \u001b[0;36m__setitem__\u001b[1;34m(self, key, value)\u001b[0m\n\u001b[0;32m    769\u001b[0m         \u001b[1;31m# do the setitem\u001b[0m\u001b[1;33m\u001b[0m\u001b[1;33m\u001b[0m\u001b[0m\n\u001b[0;32m    770\u001b[0m         \u001b[0mcacher_needs_updating\u001b[0m \u001b[1;33m=\u001b[0m \u001b[0mself\u001b[0m\u001b[1;33m.\u001b[0m\u001b[0m_check_is_chained_assignment_possible\u001b[0m\u001b[1;33m(\u001b[0m\u001b[1;33m)\u001b[0m\u001b[1;33m\u001b[0m\u001b[0m\n\u001b[1;32m--> 771\u001b[1;33m         \u001b[0msetitem\u001b[0m\u001b[1;33m(\u001b[0m\u001b[0mkey\u001b[0m\u001b[1;33m,\u001b[0m \u001b[0mvalue\u001b[0m\u001b[1;33m)\u001b[0m\u001b[1;33m\u001b[0m\u001b[0m\n\u001b[0m\u001b[0;32m    772\u001b[0m         \u001b[1;32mif\u001b[0m \u001b[0mcacher_needs_updating\u001b[0m\u001b[1;33m:\u001b[0m\u001b[1;33m\u001b[0m\u001b[0m\n\u001b[0;32m    773\u001b[0m             \u001b[0mself\u001b[0m\u001b[1;33m.\u001b[0m\u001b[0m_maybe_update_cacher\u001b[0m\u001b[1;33m(\u001b[0m\u001b[1;33m)\u001b[0m\u001b[1;33m\u001b[0m\u001b[0m\n",
      "\u001b[1;32mC:\\Users\\daherg\\AppData\\Local\\Continuum\\Anaconda2\\lib\\site-packages\\pandas\\core\\series.pyc\u001b[0m in \u001b[0;36msetitem\u001b[1;34m(key, value)\u001b[0m\n\u001b[0;32m    717\u001b[0m         \u001b[1;32mdef\u001b[0m \u001b[0msetitem\u001b[0m\u001b[1;33m(\u001b[0m\u001b[0mkey\u001b[0m\u001b[1;33m,\u001b[0m \u001b[0mvalue\u001b[0m\u001b[1;33m)\u001b[0m\u001b[1;33m:\u001b[0m\u001b[1;33m\u001b[0m\u001b[0m\n\u001b[0;32m    718\u001b[0m             \u001b[1;32mtry\u001b[0m\u001b[1;33m:\u001b[0m\u001b[1;33m\u001b[0m\u001b[0m\n\u001b[1;32m--> 719\u001b[1;33m                 \u001b[0mself\u001b[0m\u001b[1;33m.\u001b[0m\u001b[0m_set_with_engine\u001b[0m\u001b[1;33m(\u001b[0m\u001b[0mkey\u001b[0m\u001b[1;33m,\u001b[0m \u001b[0mvalue\u001b[0m\u001b[1;33m)\u001b[0m\u001b[1;33m\u001b[0m\u001b[0m\n\u001b[0m\u001b[0;32m    720\u001b[0m                 \u001b[1;32mreturn\u001b[0m\u001b[1;33m\u001b[0m\u001b[0m\n\u001b[0;32m    721\u001b[0m             \u001b[1;32mexcept\u001b[0m \u001b[1;33m(\u001b[0m\u001b[0mSettingWithCopyError\u001b[0m\u001b[1;33m)\u001b[0m\u001b[1;33m:\u001b[0m\u001b[1;33m\u001b[0m\u001b[0m\n",
      "\u001b[1;32mC:\\Users\\daherg\\AppData\\Local\\Continuum\\Anaconda2\\lib\\site-packages\\pandas\\core\\series.pyc\u001b[0m in \u001b[0;36m_set_with_engine\u001b[1;34m(self, key, value)\u001b[0m\n\u001b[0;32m    774\u001b[0m \u001b[1;33m\u001b[0m\u001b[0m\n\u001b[0;32m    775\u001b[0m     \u001b[1;32mdef\u001b[0m \u001b[0m_set_with_engine\u001b[0m\u001b[1;33m(\u001b[0m\u001b[0mself\u001b[0m\u001b[1;33m,\u001b[0m \u001b[0mkey\u001b[0m\u001b[1;33m,\u001b[0m \u001b[0mvalue\u001b[0m\u001b[1;33m)\u001b[0m\u001b[1;33m:\u001b[0m\u001b[1;33m\u001b[0m\u001b[0m\n\u001b[1;32m--> 776\u001b[1;33m         \u001b[0mvalues\u001b[0m \u001b[1;33m=\u001b[0m \u001b[0mself\u001b[0m\u001b[1;33m.\u001b[0m\u001b[0m_values\u001b[0m\u001b[1;33m\u001b[0m\u001b[0m\n\u001b[0m\u001b[0;32m    777\u001b[0m         \u001b[1;32mtry\u001b[0m\u001b[1;33m:\u001b[0m\u001b[1;33m\u001b[0m\u001b[0m\n\u001b[0;32m    778\u001b[0m             \u001b[0mself\u001b[0m\u001b[1;33m.\u001b[0m\u001b[0mindex\u001b[0m\u001b[1;33m.\u001b[0m\u001b[0m_engine\u001b[0m\u001b[1;33m.\u001b[0m\u001b[0mset_value\u001b[0m\u001b[1;33m(\u001b[0m\u001b[0mvalues\u001b[0m\u001b[1;33m,\u001b[0m \u001b[0mkey\u001b[0m\u001b[1;33m,\u001b[0m \u001b[0mvalue\u001b[0m\u001b[1;33m)\u001b[0m\u001b[1;33m\u001b[0m\u001b[0m\n",
      "\u001b[1;32mC:\\Users\\daherg\\AppData\\Local\\Continuum\\Anaconda2\\lib\\site-packages\\pandas\\core\\series.pyc\u001b[0m in \u001b[0;36m_values\u001b[1;34m(self)\u001b[0m\n\u001b[0;32m    385\u001b[0m     \u001b[1;32mdef\u001b[0m \u001b[0m_values\u001b[0m\u001b[1;33m(\u001b[0m\u001b[0mself\u001b[0m\u001b[1;33m)\u001b[0m\u001b[1;33m:\u001b[0m\u001b[1;33m\u001b[0m\u001b[0m\n\u001b[0;32m    386\u001b[0m         \u001b[1;34m\"\"\" return the internal repr of this data \"\"\"\u001b[0m\u001b[1;33m\u001b[0m\u001b[0m\n\u001b[1;32m--> 387\u001b[1;33m         \u001b[1;32mreturn\u001b[0m \u001b[0mself\u001b[0m\u001b[1;33m.\u001b[0m\u001b[0m_data\u001b[0m\u001b[1;33m.\u001b[0m\u001b[0minternal_values\u001b[0m\u001b[1;33m(\u001b[0m\u001b[1;33m)\u001b[0m\u001b[1;33m\u001b[0m\u001b[0m\n\u001b[0m\u001b[0;32m    388\u001b[0m \u001b[1;33m\u001b[0m\u001b[0m\n\u001b[0;32m    389\u001b[0m     \u001b[1;32mdef\u001b[0m \u001b[0mget_values\u001b[0m\u001b[1;33m(\u001b[0m\u001b[0mself\u001b[0m\u001b[1;33m)\u001b[0m\u001b[1;33m:\u001b[0m\u001b[1;33m\u001b[0m\u001b[0m\n",
      "\u001b[1;32mC:\\Users\\daherg\\AppData\\Local\\Continuum\\Anaconda2\\lib\\site-packages\\pandas\\core\\internals.pyc\u001b[0m in \u001b[0;36minternal_values\u001b[1;34m(self)\u001b[0m\n\u001b[0;32m   4220\u001b[0m \u001b[1;33m\u001b[0m\u001b[0m\n\u001b[0;32m   4221\u001b[0m     \u001b[1;32mdef\u001b[0m \u001b[0minternal_values\u001b[0m\u001b[1;33m(\u001b[0m\u001b[0mself\u001b[0m\u001b[1;33m)\u001b[0m\u001b[1;33m:\u001b[0m\u001b[1;33m\u001b[0m\u001b[0m\n\u001b[1;32m-> 4222\u001b[1;33m         \u001b[1;32mreturn\u001b[0m \u001b[0mself\u001b[0m\u001b[1;33m.\u001b[0m\u001b[0m_block\u001b[0m\u001b[1;33m.\u001b[0m\u001b[0minternal_values\u001b[0m\u001b[1;33m(\u001b[0m\u001b[1;33m)\u001b[0m\u001b[1;33m\u001b[0m\u001b[0m\n\u001b[0m\u001b[0;32m   4223\u001b[0m \u001b[1;33m\u001b[0m\u001b[0m\n\u001b[0;32m   4224\u001b[0m     \u001b[1;32mdef\u001b[0m \u001b[0mget_values\u001b[0m\u001b[1;33m(\u001b[0m\u001b[0mself\u001b[0m\u001b[1;33m)\u001b[0m\u001b[1;33m:\u001b[0m\u001b[1;33m\u001b[0m\u001b[0m\n",
      "\u001b[1;31mKeyboardInterrupt\u001b[0m: "
     ]
    }
   ],
   "source": [
    "#convert units of hours into units of years\n",
    "for index in data.salary.index:\n",
    "        for i in numeric:\n",
    "            if (data.hourly[index]==True):\n",
    "                if(data.part_time[index]==False):\n",
    "                    data[i][index]=data[i][index]*40*52\n",
    "                else:\n",
    "                   data[i][index]=data[i][index]*20*52"
   ]
  },
  {
   "cell_type": "code",
   "execution_count": 2,
   "metadata": {},
   "outputs": [
    {
     "ename": "NameError",
     "evalue": "name 'data' is not defined",
     "output_type": "error",
     "traceback": [
      "\u001b[1;31m---------------------------------------------------------------------------\u001b[0m",
      "\u001b[1;31mNameError\u001b[0m                                 Traceback (most recent call last)",
      "\u001b[1;32m<ipython-input-2-7b7445d5ac1f>\u001b[0m in \u001b[0;36m<module>\u001b[1;34m()\u001b[0m\n\u001b[0;32m      1\u001b[0m \u001b[1;31m#get midpoint data for ranges\u001b[0m\u001b[1;33m\u001b[0m\u001b[1;33m\u001b[0m\u001b[0m\n\u001b[1;32m----> 2\u001b[1;33m \u001b[0mdata\u001b[0m\u001b[1;33m[\u001b[0m\u001b[1;34m'midpoint_salary'\u001b[0m\u001b[1;33m]\u001b[0m\u001b[1;33m=\u001b[0m\u001b[1;33m(\u001b[0m\u001b[0mdata\u001b[0m\u001b[1;33m[\u001b[0m\u001b[1;34m'lowest'\u001b[0m\u001b[1;33m]\u001b[0m\u001b[1;33m+\u001b[0m\u001b[0mdata\u001b[0m\u001b[1;33m[\u001b[0m\u001b[1;34m'highest'\u001b[0m\u001b[1;33m]\u001b[0m\u001b[1;33m)\u001b[0m\u001b[1;33m/\u001b[0m\u001b[1;36m2\u001b[0m\u001b[1;33m\u001b[0m\u001b[0m\n\u001b[0m\u001b[0;32m      3\u001b[0m \u001b[1;33m\u001b[0m\u001b[0m\n\u001b[0;32m      4\u001b[0m \u001b[1;31m#add non-range salaries to midpoints column\u001b[0m\u001b[1;33m\u001b[0m\u001b[1;33m\u001b[0m\u001b[0m\n\u001b[0;32m      5\u001b[0m \u001b[1;32mfor\u001b[0m \u001b[0mindex\u001b[0m \u001b[1;32min\u001b[0m \u001b[0mdata\u001b[0m\u001b[1;33m.\u001b[0m\u001b[0msalary\u001b[0m\u001b[1;33m.\u001b[0m\u001b[0mindex\u001b[0m\u001b[1;33m:\u001b[0m\u001b[1;33m\u001b[0m\u001b[0m\n",
      "\u001b[1;31mNameError\u001b[0m: name 'data' is not defined"
     ]
    }
   ],
   "source": [
    "#get midpoint data for ranges\n",
    "data['midpoint_salary']=(data['lowest']+data['highest'])/2\n",
    "\n",
    "#add non-range salaries to midpoints column\n",
    "for index in data.salary.index:\n",
    "    if(pd.isnull(data.ranges[index])&pd.notnull(data.numbers[index])):\n",
    "        data.midpoint_salary[index]=data.numbers[index]"
   ]
  },
  {
   "cell_type": "code",
   "execution_count": 2,
   "metadata": {},
   "outputs": [
    {
     "ename": "NameError",
     "evalue": "name 'data' is not defined",
     "output_type": "error",
     "traceback": [
      "\u001b[1;31m---------------------------------------------------------------------------\u001b[0m",
      "\u001b[1;31mNameError\u001b[0m                                 Traceback (most recent call last)",
      "\u001b[1;32m<ipython-input-2-9775200c604d>\u001b[0m in \u001b[0;36m<module>\u001b[1;34m()\u001b[0m\n\u001b[0;32m      1\u001b[0m \u001b[1;31m#write cleaned data to csv\u001b[0m\u001b[1;33m\u001b[0m\u001b[1;33m\u001b[0m\u001b[0m\n\u001b[1;32m----> 2\u001b[1;33m \u001b[0mdata\u001b[0m\u001b[1;33m.\u001b[0m\u001b[0mto_csv\u001b[0m\u001b[1;33m(\u001b[0m\u001b[1;34m'monster_com-job_sample_cleaned.csv'\u001b[0m\u001b[1;33m)\u001b[0m\u001b[1;33m\u001b[0m\u001b[0m\n\u001b[0m",
      "\u001b[1;31mNameError\u001b[0m: name 'data' is not defined"
     ]
    }
   ],
   "source": [
    "#write cleaned data to csv\n",
    "#data.to_csv('monster_com-job_sample_cleaned.csv')"
   ]
  },
  {
   "cell_type": "code",
   "execution_count": 133,
   "metadata": {},
   "outputs": [],
   "source": [
    "data=pd.read_csv('monster_com-job_sample_cleaned.csv')\n",
    "#remove nan's\n",
    "data=data.dropna(subset=['midpoint_salary'])\n",
    "\n",
    "#only yearly and hourly salary\n",
    "data=data[data.yearly|data.hourly]"
   ]
  },
  {
   "cell_type": "code",
   "execution_count": 134,
   "metadata": {},
   "outputs": [
    {
     "data": {
      "text/html": [
       "<div>\n",
       "<style>\n",
       "    .dataframe thead tr:only-child th {\n",
       "        text-align: right;\n",
       "    }\n",
       "\n",
       "    .dataframe thead th {\n",
       "        text-align: left;\n",
       "    }\n",
       "\n",
       "    .dataframe tbody tr th {\n",
       "        vertical-align: top;\n",
       "    }\n",
       "</style>\n",
       "<table border=\"1\" class=\"dataframe\">\n",
       "  <thead>\n",
       "    <tr style=\"text-align: right;\">\n",
       "      <th></th>\n",
       "      <th>Unnamed: 0</th>\n",
       "      <th>country</th>\n",
       "      <th>country_code</th>\n",
       "      <th>date_added</th>\n",
       "      <th>has_expired</th>\n",
       "      <th>job_board</th>\n",
       "      <th>job_description</th>\n",
       "      <th>job_title</th>\n",
       "      <th>job_type</th>\n",
       "      <th>location</th>\n",
       "      <th>...</th>\n",
       "      <th>full_time</th>\n",
       "      <th>part_time</th>\n",
       "      <th>analyst</th>\n",
       "      <th>ranges</th>\n",
       "      <th>numbers</th>\n",
       "      <th>lowest</th>\n",
       "      <th>highest</th>\n",
       "      <th>midpoint_salary</th>\n",
       "      <th>state</th>\n",
       "      <th>midpoint_salary_bins</th>\n",
       "    </tr>\n",
       "  </thead>\n",
       "  <tbody>\n",
       "    <tr>\n",
       "      <th>13</th>\n",
       "      <td>13</td>\n",
       "      <td>United States of America</td>\n",
       "      <td>US</td>\n",
       "      <td>NaN</td>\n",
       "      <td>No</td>\n",
       "      <td>jobs.monster.com</td>\n",
       "      <td>Launch your teaching career with the Leader in...</td>\n",
       "      <td>Primrose Private Preschool Teacher Job in Houston</td>\n",
       "      <td>Full Time</td>\n",
       "      <td>Houston, TX 77098</td>\n",
       "      <td>...</td>\n",
       "      <td>True</td>\n",
       "      <td>False</td>\n",
       "      <td>False</td>\n",
       "      <td>9.00 - 13.00</td>\n",
       "      <td>0.0</td>\n",
       "      <td>18720.0</td>\n",
       "      <td>27040.0</td>\n",
       "      <td>0</td>\n",
       "      <td>TX</td>\n",
       "      <td>(14670.24, 24897.6]</td>\n",
       "    </tr>\n",
       "    <tr>\n",
       "      <th>14</th>\n",
       "      <td>14</td>\n",
       "      <td>United States of America</td>\n",
       "      <td>US</td>\n",
       "      <td>NaN</td>\n",
       "      <td>No</td>\n",
       "      <td>jobs.monster.com</td>\n",
       "      <td>Construction Professional For more than 15 yea...</td>\n",
       "      <td>Superintendent Job in Houston</td>\n",
       "      <td>Full Time Employee</td>\n",
       "      <td>Houston, TX</td>\n",
       "      <td>...</td>\n",
       "      <td>True</td>\n",
       "      <td>False</td>\n",
       "      <td>False</td>\n",
       "      <td>80,000.00 - 95,000.00</td>\n",
       "      <td>0.0</td>\n",
       "      <td>80000.0</td>\n",
       "      <td>95000.0</td>\n",
       "      <td>7</td>\n",
       "      <td>TX</td>\n",
       "      <td>(80683.2, 89980.8]</td>\n",
       "    </tr>\n",
       "    <tr>\n",
       "      <th>19</th>\n",
       "      <td>19</td>\n",
       "      <td>United States of America</td>\n",
       "      <td>US</td>\n",
       "      <td>NaN</td>\n",
       "      <td>No</td>\n",
       "      <td>jobs.monster.com</td>\n",
       "      <td>Competitive compensation package, excellent co...</td>\n",
       "      <td>Technician - Robot &amp; Multi-Axis CNC Field Serv...</td>\n",
       "      <td>Full Time</td>\n",
       "      <td>Carter Lake, IA 51510</td>\n",
       "      <td>...</td>\n",
       "      <td>True</td>\n",
       "      <td>False</td>\n",
       "      <td>False</td>\n",
       "      <td>60,000.00 - 72,000.00</td>\n",
       "      <td>0.0</td>\n",
       "      <td>60000.0</td>\n",
       "      <td>72000.0</td>\n",
       "      <td>5</td>\n",
       "      <td>IA</td>\n",
       "      <td>(62088.0, 71385.6]</td>\n",
       "    </tr>\n",
       "    <tr>\n",
       "      <th>29</th>\n",
       "      <td>29</td>\n",
       "      <td>United States of America</td>\n",
       "      <td>US</td>\n",
       "      <td>NaN</td>\n",
       "      <td>No</td>\n",
       "      <td>jobs.monster.com</td>\n",
       "      <td>Experis is working with a Pharmaceutical start...</td>\n",
       "      <td>Sr. Process Engineer</td>\n",
       "      <td>Full Time Employee</td>\n",
       "      <td>Sr. Process Engineer, Manufacturing</td>\n",
       "      <td>...</td>\n",
       "      <td>True</td>\n",
       "      <td>False</td>\n",
       "      <td>False</td>\n",
       "      <td>70,000.00 - 100,000.00</td>\n",
       "      <td>0.0</td>\n",
       "      <td>70000.0</td>\n",
       "      <td>100000.0</td>\n",
       "      <td>7</td>\n",
       "      <td>NaN</td>\n",
       "      <td>(80683.2, 89980.8]</td>\n",
       "    </tr>\n",
       "    <tr>\n",
       "      <th>30</th>\n",
       "      <td>30</td>\n",
       "      <td>United States of America</td>\n",
       "      <td>US</td>\n",
       "      <td>NaN</td>\n",
       "      <td>No</td>\n",
       "      <td>jobs.monster.com</td>\n",
       "      <td>The world's largest standalone medical technol...</td>\n",
       "      <td>Mechanical Engineer - FEA/Mechanical Modeling/...</td>\n",
       "      <td>Full Time Temporary/Contract/Project</td>\n",
       "      <td>Mounds View, MN 55112</td>\n",
       "      <td>...</td>\n",
       "      <td>True</td>\n",
       "      <td>False</td>\n",
       "      <td>False</td>\n",
       "      <td>62.00 - 81.00</td>\n",
       "      <td>0.0</td>\n",
       "      <td>128960.0</td>\n",
       "      <td>168480.0</td>\n",
       "      <td>14</td>\n",
       "      <td>MN</td>\n",
       "      <td>(145766.4, 155064.0]</td>\n",
       "    </tr>\n",
       "  </tbody>\n",
       "</table>\n",
       "<p>5 rows × 27 columns</p>\n",
       "</div>"
      ],
      "text/plain": [
       "    Unnamed: 0                   country country_code date_added has_expired  \\\n",
       "13          13  United States of America           US        NaN          No   \n",
       "14          14  United States of America           US        NaN          No   \n",
       "19          19  United States of America           US        NaN          No   \n",
       "29          29  United States of America           US        NaN          No   \n",
       "30          30  United States of America           US        NaN          No   \n",
       "\n",
       "           job_board                                    job_description  \\\n",
       "13  jobs.monster.com  Launch your teaching career with the Leader in...   \n",
       "14  jobs.monster.com  Construction Professional For more than 15 yea...   \n",
       "19  jobs.monster.com  Competitive compensation package, excellent co...   \n",
       "29  jobs.monster.com  Experis is working with a Pharmaceutical start...   \n",
       "30  jobs.monster.com  The world's largest standalone medical technol...   \n",
       "\n",
       "                                            job_title  \\\n",
       "13  Primrose Private Preschool Teacher Job in Houston   \n",
       "14                      Superintendent Job in Houston   \n",
       "19  Technician - Robot & Multi-Axis CNC Field Serv...   \n",
       "29                               Sr. Process Engineer   \n",
       "30  Mechanical Engineer - FEA/Mechanical Modeling/...   \n",
       "\n",
       "                                job_type                             location  \\\n",
       "13                             Full Time                    Houston, TX 77098   \n",
       "14                    Full Time Employee                          Houston, TX   \n",
       "19                             Full Time                Carter Lake, IA 51510   \n",
       "29                    Full Time Employee  Sr. Process Engineer, Manufacturing   \n",
       "30  Full Time Temporary/Contract/Project                Mounds View, MN 55112   \n",
       "\n",
       "            ...          full_time part_time analyst                   ranges  \\\n",
       "13          ...               True     False   False            9.00 - 13.00    \n",
       "14          ...               True     False   False   80,000.00 - 95,000.00    \n",
       "19          ...               True     False   False   60,000.00 - 72,000.00    \n",
       "29          ...               True     False   False  70,000.00 - 100,000.00    \n",
       "30          ...               True     False   False           62.00 - 81.00    \n",
       "\n",
       "   numbers    lowest   highest  midpoint_salary  state  midpoint_salary_bins  \n",
       "13     0.0   18720.0   27040.0                0     TX   (14670.24, 24897.6]  \n",
       "14     0.0   80000.0   95000.0                7     TX    (80683.2, 89980.8]  \n",
       "19     0.0   60000.0   72000.0                5     IA    (62088.0, 71385.6]  \n",
       "29     0.0   70000.0  100000.0                7    NaN    (80683.2, 89980.8]  \n",
       "30     0.0  128960.0  168480.0               14     MN  (145766.4, 155064.0]  \n",
       "\n",
       "[5 rows x 27 columns]"
      ]
     },
     "execution_count": 134,
     "metadata": {},
     "output_type": "execute_result"
    }
   ],
   "source": [
    "#only include non-bogus salaries. The lowest possible minimum wage job in the US pays at least $7/hour\n",
    "part_time_min=7*20*52\n",
    "full_time_min=7*40*52\n",
    "\n",
    "# filter out any salaries lower than $7/hour\n",
    "data=data[((data.lowest>=part_time_min)&(data.highest>=part_time_min)&(data.part_time==True))|((data.lowest>=full_time_min)&(data.highest>=full_time_min)&(data.part_time==False))]\n",
    "\n",
    "# filter out any salaries larger than $9,000,000 a year. Jobs claiming to pay more than that on a job board site would be a bit suspect.\n",
    "data=data[data.highest<=9000000]\n",
    "\n",
    "# filter out only salaries in the US, our country of interest.\n",
    "data=data[data.country_code=='US']\n",
    "\n",
    "# filter out only full time salaries, as these are what interests us\n",
    "data=data[data.part_time==False]\n",
    "\n",
    "# make states column\n",
    "states=r'(AK|AL|AR|AZ|CA|CO|CT|DE|FL|GA|HI|IA|ID|IL|IN|KS|KY|LA|MA|MD|ME|MI|MN|MO|MS|MT|NC|ND|NE|NH|NJ|NM|NV|NY|OH|OK|OR|PA|RI|SC|SD|TN|TX|UT|VA|VT|WA|WI|WV|WY)'\n",
    "\n",
    "state=data.location.str.extract(states,expand=True,).rename(columns={0:'state'})\n",
    "data=data.join(state)\n",
    "\n",
    "\n",
    "# make bins\n",
    "#bins=[0,10000,20000,30000,40000,50000,60000,70000,80000,90000,100000,110000,120000,130000,140000,150000,160000,170000,180000,190000,200000,300000,400000,500000,600000,700000,800000,900000]\n",
    "data['midpoint_salary_bins']=pd.cut(data['midpoint_salary'],bins=100)\n",
    "\n",
    "# assign bins to numbers\n",
    "le = LabelEncoder()\n",
    "data.midpoint_salary = le.fit_transform(data.midpoint_salary_bins)\n",
    "data.head()"
   ]
  },
  {
   "cell_type": "code",
   "execution_count": 135,
   "metadata": {
    "collapsed": true
   },
   "outputs": [],
   "source": [
    "#fix sector information\n",
    "i='sector'\n",
    "\n",
    "data['sector']=data['sector'].str.replace(' ','')\n",
    "data['sector']=data['sector'].str.replace(',','')\n"
   ]
  },
  {
   "cell_type": "code",
   "execution_count": 136,
   "metadata": {},
   "outputs": [
    {
     "name": "stdout",
     "output_type": "stream",
     "text": [
      "('max:', 26)\n",
      "('min:', 0)\n"
     ]
    }
   ],
   "source": [
    "#check min and max salaries\n",
    "print('max:',data.midpoint_salary.max())\n",
    "print('min:',data.midpoint_salary.min())\n",
    "#data.sort_values(by='midpoint_salary',ascending=False)"
   ]
  },
  {
   "cell_type": "code",
   "execution_count": 137,
   "metadata": {
    "collapsed": true
   },
   "outputs": [],
   "source": [
    "# remove data point 7194, as it is highly unlikely that a picker/packer makes $900/hour\n",
    "data=data.drop(7194)"
   ]
  },
  {
   "cell_type": "code",
   "execution_count": 138,
   "metadata": {},
   "outputs": [
    {
     "name": "stdout",
     "output_type": "stream",
     "text": [
      "('Training set RMSE:', 4.4195245185084069)\n",
      "('coefficient: ', array([[-0.0638385 , -1.71174857, -0.37941474, ..., -0.12106999,\n",
      "        -0.0638385 , -0.0638385 ],\n",
      "       [-0.12282244, -1.17201811,  0.43168728, ..., -0.22459282,\n",
      "        -0.12282244, -0.12282244],\n",
      "       [-0.09029294,  0.40981512,  0.63624827, ..., -0.16832052,\n",
      "        -0.09029294,  0.80386477],\n",
      "       ..., \n",
      "       [-0.00431202, -0.3882456 , -0.03351005, ..., -0.00858751,\n",
      "        -0.00431202, -0.00431202],\n",
      "       [-0.0042427 , -0.38370756, -0.03298402, ..., -0.00844993,\n",
      "        -0.0042427 , -0.0042427 ],\n",
      "       [-0.00453244, -0.4024867 , -0.03517151, ..., -0.0090245 ,\n",
      "        -0.00453244, -0.00453244]]))\n",
      "('intercept: ', array([-2.62055072, -1.84288371, -2.21815791, -2.31211188, -2.32052679,\n",
      "       -2.09902039, -2.40463273, -2.57467332, -2.61980456, -2.6763736 ,\n",
      "       -3.25661186, -3.51499189, -4.70171594, -4.28376801, -4.2737098 ,\n",
      "       -4.86707058, -5.31434866, -4.92300212, -5.01395785, -5.46978065,\n",
      "       -5.15368803, -5.40959891, -5.40193344, -5.43769645, -5.45406032,\n",
      "       -5.38735935]))\n"
     ]
    }
   ],
   "source": [
    "## Prepare data for linear model and run\n",
    "\n",
    "#onehotencode variables using dummies and separate out dependent and independent features\n",
    "df=pd.get_dummies(data[['sector']],drop_first=False)\n",
    "y=data['midpoint_salary']\n",
    "\n",
    "#split into training and test set\n",
    "X_train_1, X_test_1, y_train_1,y_test_1 = train_test_split(df,y,test_size=.22)\n",
    "\n",
    "#run model\n",
    "lm=LogisticRegression()\n",
    "lm.fit(X_train_1,y_train_1)\n",
    "\n",
    " \n",
    "y_pred_test=lm.predict(X_test_1)\n",
    "\n",
    "\n",
    "\n",
    "print(\"Training set RMSE:\",np.sqrt(metrics.mean_squared_error(y_test_1, y_pred_test)))\n",
    "\n",
    "\n",
    "#print(\"Cross-validated mean accuracy:\",cross_val_score(lm, df, y, cv=10, scoring='accuracy').mean())\n",
    "print('coefficient: ',lm.coef_)\n",
    "print('intercept: ',lm.intercept_)\n",
    "\n",
    "#coefficients = pd.concat([pd.DataFrame(df.columns),pd.DataFrame(np.transpose(lm.coef_))], axis = 1)\n",
    "#coefficients\n"
   ]
  },
  {
   "cell_type": "markdown",
   "metadata": {},
   "source": [
    "Lets try imposing some polynomial features"
   ]
  },
  {
   "cell_type": "markdown",
   "metadata": {},
   "source": [
    "Some of the sector features seem to not be sectors at all (e.g. CareerLevelEntryLevel). This confuses the dataset, as I  we do not have good information for this on every job posting. I will remove this and other offending rows to see if there will be an improvement."
   ]
  },
  {
   "cell_type": "code",
   "execution_count": 118,
   "metadata": {},
   "outputs": [
    {
     "name": "stdout",
     "output_type": "stream",
     "text": [
      "('Cross-validated mean accuracy:', 0.18476746542634961)\n"
     ]
    }
   ],
   "source": [
    "#remove offending rows\n",
    "data_cleaned=data[(data.sector!='Student(Undergraduate/Graduate)')&(data.sector!='Experienced(Non-Manager)')&(data.sector!='CareerLevelEntryLevel')&(data.sector!='CareerLevelExperienced(Non-Manager)')&(data.sector!='EntryLevel')&(data.sector!='Student(HighSchool)')]\n",
    "\n",
    "## Prepare data for linear model and run\n",
    "\n",
    "#onehotencode variables using dummies and separate out dependent and independent features\n",
    "df=pd.get_dummies(data_cleaned[['sector']],drop_first=False)\n",
    "y=data_cleaned['midpoint_salary']\n",
    "\n",
    "#split into training and test set\n",
    "X_train, X_test, y_train,y_test = train_test_split(df,y,test_size=.22)\n",
    "\n",
    "#run model\n",
    "lm=LogisticRegression()\n",
    "lm.fit(X_train,y_train)\n",
    "\n",
    "#print('intercept: ',lm.intercept_) \n",
    "y_pred_test=lm.predict(X_test)\n",
    "\n",
    "\n",
    "\n",
    "print(\"Training set RMSE:\",np.sqrt(metrics.mean_squared_error(y_test, y_pred_test)))\n",
    "\n",
    "coefficients = pd.concat([pd.DataFrame(df.columns),pd.DataFrame(np.transpose(lm.coef_))], axis = 1)\n",
    "coefficients\n",
    "print(\"Cross-validated mean accuracy:\",cross_val_score(lm, df, y, cv=10, scoring='accuracy').mean())"
   ]
  },
  {
   "cell_type": "markdown",
   "metadata": {},
   "source": [
    "The model did not benefit much from removing those values. Let's leave them in for now. Let's filter for analyst positions"
   ]
  },
  {
   "cell_type": "code",
   "execution_count": 119,
   "metadata": {
    "collapsed": true
   },
   "outputs": [],
   "source": [
    "# only include analyst positions\n",
    "data2=data[data.analyst==True]\n"
   ]
  },
  {
   "cell_type": "code",
   "execution_count": 125,
   "metadata": {},
   "outputs": [
    {
     "name": "stdout",
     "output_type": "stream",
     "text": [
      "('Cross-validated mean accuracy:', 0.18177308802308803)\n"
     ]
    }
   ],
   "source": [
    "# onehotencode variables using dummies and separate out dependent and independent features\n",
    "df2=pd.get_dummies(data2[['sector']],drop_first=False)\n",
    "#df=pd.get_dummies(data2['part_time'],drop_first=True)\n",
    "#df2=df2.join(df)\n",
    "y=data2['midpoint_salary']\n",
    "\n",
    "# Split into training and test set\n",
    "#X_train, X_test, y_train,y_test = train_test_split(df2,y,test_size=.22)\n",
    "\n",
    "# run model\n",
    "lm=LogisticRegression()\n",
    "#lm.fit(X_train,y_train)\n",
    "print(\"Cross-validated mean accuracy:\",cross_val_score(lm, df2, y, cv=10, scoring='accuracy').mean())"
   ]
  },
  {
   "cell_type": "code",
   "execution_count": 88,
   "metadata": {},
   "outputs": [
    {
     "name": "stdout",
     "output_type": "stream",
     "text": [
      "('intercept: ', 5.8684210526315788)\n"
     ]
    },
    {
     "data": {
      "text/html": [
       "<div>\n",
       "<style>\n",
       "    .dataframe thead tr:only-child th {\n",
       "        text-align: right;\n",
       "    }\n",
       "\n",
       "    .dataframe thead th {\n",
       "        text-align: left;\n",
       "    }\n",
       "\n",
       "    .dataframe tbody tr th {\n",
       "        vertical-align: top;\n",
       "    }\n",
       "</style>\n",
       "<table border=\"1\" class=\"dataframe\">\n",
       "  <thead>\n",
       "    <tr style=\"text-align: right;\">\n",
       "      <th></th>\n",
       "      <th>0</th>\n",
       "      <th>0</th>\n",
       "    </tr>\n",
       "  </thead>\n",
       "  <tbody>\n",
       "    <tr>\n",
       "      <th>0</th>\n",
       "      <td>sector_Administrative/Clerical</td>\n",
       "      <td>-1.868421</td>\n",
       "    </tr>\n",
       "    <tr>\n",
       "      <th>1</th>\n",
       "      <td>sector_CustomerSupport/ClientCare</td>\n",
       "      <td>-4.868421</td>\n",
       "    </tr>\n",
       "    <tr>\n",
       "      <th>2</th>\n",
       "      <td>sector_EntryLevel</td>\n",
       "      <td>-3.868421</td>\n",
       "    </tr>\n",
       "    <tr>\n",
       "      <th>3</th>\n",
       "      <td>sector_Experienced(Non-Manager)</td>\n",
       "      <td>-0.413876</td>\n",
       "    </tr>\n",
       "    <tr>\n",
       "      <th>4</th>\n",
       "      <td>sector_General/Other:Accounting/Finance</td>\n",
       "      <td>1.131579</td>\n",
       "    </tr>\n",
       "    <tr>\n",
       "      <th>5</th>\n",
       "      <td>sector_HumanResources</td>\n",
       "      <td>1.131579</td>\n",
       "    </tr>\n",
       "    <tr>\n",
       "      <th>6</th>\n",
       "      <td>sector_IT/SoftwareDevelopment</td>\n",
       "      <td>-0.201754</td>\n",
       "    </tr>\n",
       "    <tr>\n",
       "      <th>7</th>\n",
       "      <td>sector_Manager(Manager/SupervisorofStaff)</td>\n",
       "      <td>-4.868421</td>\n",
       "    </tr>\n",
       "    <tr>\n",
       "      <th>8</th>\n",
       "      <td>sector_Marketing/Product</td>\n",
       "      <td>-2.868421</td>\n",
       "    </tr>\n",
       "    <tr>\n",
       "      <th>9</th>\n",
       "      <td>sector_Project/ProgramManagement</td>\n",
       "      <td>2.131579</td>\n",
       "    </tr>\n",
       "    <tr>\n",
       "      <th>10</th>\n",
       "      <td>sector_Security/ProtectiveServices</td>\n",
       "      <td>-2.868421</td>\n",
       "    </tr>\n",
       "    <tr>\n",
       "      <th>11</th>\n",
       "      <td>sector_SystemsAnalysis-IT</td>\n",
       "      <td>0.000000</td>\n",
       "    </tr>\n",
       "    <tr>\n",
       "      <th>12</th>\n",
       "      <td>sector_SystemsAnalysis-ITWeb/UI/UXDesign</td>\n",
       "      <td>0.000000</td>\n",
       "    </tr>\n",
       "  </tbody>\n",
       "</table>\n",
       "</div>"
      ],
      "text/plain": [
       "                                            0         0\n",
       "0              sector_Administrative/Clerical -1.868421\n",
       "1           sector_CustomerSupport/ClientCare -4.868421\n",
       "2                           sector_EntryLevel -3.868421\n",
       "3             sector_Experienced(Non-Manager) -0.413876\n",
       "4     sector_General/Other:Accounting/Finance  1.131579\n",
       "5                       sector_HumanResources  1.131579\n",
       "6               sector_IT/SoftwareDevelopment -0.201754\n",
       "7   sector_Manager(Manager/SupervisorofStaff) -4.868421\n",
       "8                    sector_Marketing/Product -2.868421\n",
       "9            sector_Project/ProgramManagement  2.131579\n",
       "10         sector_Security/ProtectiveServices -2.868421\n",
       "11                  sector_SystemsAnalysis-IT  0.000000\n",
       "12   sector_SystemsAnalysis-ITWeb/UI/UXDesign  0.000000"
      ]
     },
     "execution_count": 88,
     "metadata": {},
     "output_type": "execute_result"
    }
   ],
   "source": [
    "# Check the model\n",
    "coefficients = pd.concat([pd.DataFrame(df2.columns),pd.DataFrame(np.transpose(lm.coef_))], axis = 1)\n",
    "\n",
    "print('intercept: ',lm.intercept_) \n",
    "y_pred_test=lm.predict(X_test)\n",
    "coefficients"
   ]
  },
  {
   "cell_type": "code",
   "execution_count": 89,
   "metadata": {},
   "outputs": [
    {
     "name": "stdout",
     "output_type": "stream",
     "text": [
      "('Training set RMSE:', 4.4663195333439072)\n"
     ]
    },
    {
     "data": {
      "text/plain": [
       "(105, 27)"
      ]
     },
     "execution_count": 89,
     "metadata": {},
     "output_type": "execute_result"
    }
   ],
   "source": [
    "print(\"Training set RMSE:\",np.sqrt(metrics.mean_squared_error(y_test, y_pred_test)))\n",
    "data2.shape"
   ]
  },
  {
   "cell_type": "code",
   "execution_count": null,
   "metadata": {
    "collapsed": true
   },
   "outputs": [],
   "source": []
  },
  {
   "cell_type": "markdown",
   "metadata": {},
   "source": [
    "The model is still waaaaaaay off. It seems that number of features is roughly equal to the number of rows. Imputing values is not a good option, since the majority of the dataset is missing plausible values for the thing we want to predict, i.e. salary. If I want to do an analysis for analyst only positions, I may need to get a bigger dataset with more positions. \n",
    "\n",
    "Also, since there are  only categorical variables here, perhaps linear regression doesn't make sense. Let's try decision trees."
   ]
  },
  {
   "cell_type": "code",
   "execution_count": 128,
   "metadata": {},
   "outputs": [
    {
     "name": "stdout",
     "output_type": "stream",
     "text": [
      "('Cross-validated mean accuracy:', 0.18177308802308803)\n",
      "('Decision Tree RMSE:', 3.4604874845383322)\n"
     ]
    }
   ],
   "source": [
    "## Use a decision tree to look at what variables are most important\n",
    "#use the same train/test split to run a decision tree\n",
    "random_forest = RandomForestRegressor()\n",
    "print(\"Cross-validated mean accuracy:\",cross_val_score(lm, df2, y, cv=10, scoring='accuracy').mean())\n",
    "#random_forest.fit(X_train_1,y_train_1)\n",
    "#print(\"Random Forest RMSE:\",np.sqrt(metrics.mean_squared_error(y_test_1,random_forest.predict(X_test_1))))\n",
    "\n",
    "\n",
    "decision_tree = DecisionTreeRegressor()\n",
    "decision_tree.fit(X_train_1,y_train_1)\n",
    "print(\"Decision Tree RMSE:\",np.sqrt(metrics.mean_squared_error(y_test_1,decision_tree.predict(X_test_1))))\n"
   ]
  },
  {
   "cell_type": "code",
   "execution_count": 132,
   "metadata": {},
   "outputs": [
    {
     "name": "stdout",
     "output_type": "stream",
     "text": [
      "('Cross-validated mean accuracy for depth 2:', 0.18941197691197692)\n"
     ]
    }
   ],
   "source": [
    "rf_2 = RandomForestClassifier(max_depth=2, random_state=1)\n",
    "print(\"Cross-validated mean accuracy for depth 2:\",cross_val_score(rf_2, df2, y, cv=10, scoring='accuracy').mean())"
   ]
  },
  {
   "cell_type": "code",
   "execution_count": 282,
   "metadata": {},
   "outputs": [
    {
     "name": "stdout",
     "output_type": "stream",
     "text": [
      "('Decision Tree Train/Test RMSE:', 45240.256558725654, ' ', 31247.032923509178)\n",
      "('Decision Tree Train/Test RMSE:', 44934.319079039007, ' ', 30493.528125803139)\n",
      "('Decision Tree Train/Test RMSE:', 44617.231784894451, ' ', 30616.437832625652)\n",
      "('Decision Tree Train/Test RMSE:', 44533.82310198911, ' ', 30283.972235108467)\n",
      "('Decision Tree Train/Test RMSE:', 44461.204475527964, ' ', 30319.176039227936)\n",
      "('Decision Tree Train/Test RMSE:', 44400.01241355003, ' ', 30223.082209499658)\n",
      "('Decision Tree Train/Test RMSE:', 44341.222783604884, ' ', 30165.958222952668)\n",
      "('Decision Tree Train/Test RMSE:', 44286.715491493742, ' ', 30152.519319521838)\n",
      "('Decision Tree Train/Test RMSE:', 44235.820462178628, ' ', 30108.143957489814)\n"
     ]
    },
    {
     "data": {
      "text/plain": [
       "<matplotlib.legend.Legend at 0xdddedd8>"
      ]
     },
     "execution_count": 282,
     "metadata": {},
     "output_type": "execute_result"
    },
    {
     "data": {
      "image/png": "[encoded data removed]",
      "text/plain": [
       "<matplotlib.figure.Figure at 0x135c4c88>"
      ]
     },
     "metadata": {},
     "output_type": "display_data"
    }
   ],
   "source": [
    "depths = range(1,10)\n",
    "train_rmse, test_rmse = [],[]\n",
    "for depth in depths:\n",
    "    decision_tree = DecisionTreeRegressor(max_depth=depth,random_state=10)\n",
    "    decision_tree.fit(X_train,y_train)\n",
    "    curr_train_rmse = np.sqrt(metrics.mean_squared_error(y_train,decision_tree.predict(X_train)))\n",
    "    curr_test_rmse = np.sqrt(metrics.mean_squared_error(y_test,decision_tree.predict(X_test)))\n",
    "    print(\"Decision Tree Train/Test RMSE:\",curr_train_rmse,\" \",curr_test_rmse)\n",
    "    train_rmse.append(curr_train_rmse)\n",
    "    test_rmse.append(curr_test_rmse)\n",
    "sns.mpl.pyplot.plot(depths,train_rmse,label='train_rmse')\n",
    "sns.mpl.pyplot.plot(depths,test_rmse,label='test_rmse')\n",
    "sns.mpl.pyplot.xlabel(\"maximum tree depth\")\n",
    "sns.mpl.pyplot.ylabel(\"rmse - lower is better\")\n",
    "sns.mpl.pyplot.legend()"
   ]
  },
  {
   "cell_type": "code",
   "execution_count": null,
   "metadata": {
    "collapsed": true
   },
   "outputs": [],
   "source": []
  },
  {
   "cell_type": "markdown",
   "metadata": {},
   "source": [
    "The RMSE is several orders of magnitude lower when using decision trees as compared to linear regression. Therefore, it could be that it's a better fit for this dataset. However, the rmse is still pretty large. "
   ]
  },
  {
   "cell_type": "code",
   "execution_count": 106,
   "metadata": {},
   "outputs": [
    {
     "data": {
      "text/plain": [
       "<bound method Series.unique of 13                               EntryLevel\n",
       "14       BuildingConstruction/SkilledTrades\n",
       "19                 Experienced(Non-Manager)\n",
       "29                              Engineering\n",
       "30                                      NaN\n",
       "32                 Experienced(Non-Manager)\n",
       "36                              Engineering\n",
       "41                 Experienced(Non-Manager)\n",
       "43                                      NaN\n",
       "61       Manager(Manager/SupervisorofStaff)\n",
       "64                 Experienced(Non-Manager)\n",
       "68                 Experienced(Non-Manager)\n",
       "80                                      NaN\n",
       "82                                      NaN\n",
       "83                 Experienced(Non-Manager)\n",
       "88                                      NaN\n",
       "100                Experienced(Non-Manager)\n",
       "111                Experienced(Non-Manager)\n",
       "117                Experienced(Non-Manager)\n",
       "121                Experienced(Non-Manager)\n",
       "127                                     NaN\n",
       "134      Manager(Manager/SupervisorofStaff)\n",
       "136                Experienced(Non-Manager)\n",
       "137                                     NaN\n",
       "146                Experienced(Non-Manager)\n",
       "182      BuildingConstruction/SkilledTrades\n",
       "190      BuildingConstruction/SkilledTrades\n",
       "201              CustomerSupport/ClientCare\n",
       "204            Accounting/Finance/Insurance\n",
       "218                                     NaN\n",
       "                        ...                \n",
       "21819                                   NaN\n",
       "21822                            EntryLevel\n",
       "21837              Experienced(Non-Manager)\n",
       "21848              Experienced(Non-Manager)\n",
       "21851              Experienced(Non-Manager)\n",
       "21855              Experienced(Non-Manager)\n",
       "21874                           Engineering\n",
       "21878    Manager(Manager/SupervisorofStaff)\n",
       "21882                            EntryLevel\n",
       "21883                                   NaN\n",
       "21885          Accounting/Finance/Insurance\n",
       "21906              Experienced(Non-Manager)\n",
       "21907                            EntryLevel\n",
       "21909          Accounting/Finance/Insurance\n",
       "21910                            EntryLevel\n",
       "21912              Experienced(Non-Manager)\n",
       "21913                IT/SoftwareDevelopment\n",
       "21916                IT/SoftwareDevelopment\n",
       "21919              Experienced(Non-Manager)\n",
       "21927          Accounting/Finance/Insurance\n",
       "21948              Experienced(Non-Manager)\n",
       "21960          Accounting/Finance/Insurance\n",
       "21971    Manager(Manager/SupervisorofStaff)\n",
       "21973              Experienced(Non-Manager)\n",
       "21976              Experienced(Non-Manager)\n",
       "21982          Accounting/Finance/Insurance\n",
       "21995                                   NaN\n",
       "21996    Manager(Manager/SupervisorofStaff)\n",
       "21998       Installation/Maintenance/Repair\n",
       "21999              Experienced(Non-Manager)\n",
       "Name: sector, Length: 2458, dtype: object>"
      ]
     },
     "execution_count": 106,
     "metadata": {},
     "output_type": "execute_result"
    }
   ],
   "source": [
    "#remove ma\n",
    "ma_data=data[data.state=='']"
   ]
  },
  {
   "cell_type": "code",
   "execution_count": 74,
   "metadata": {},
   "outputs": [
    {
     "name": "stdout",
     "output_type": "stream",
     "text": [
      "('Decision Tree RMSE:', 3.5944964539969266)\n"
     ]
    },
    {
     "data": {
      "image/png": "[encoded data removed]",
      "text/plain": [
       "<IPython.core.display.Image object>"
      ]
     },
     "execution_count": 74,
     "metadata": {},
     "output_type": "execute_result"
    }
   ],
   "source": [
    "#remove the offending values from the dataset\n",
    "data_cleaned=data[data.sector!='Experienced(Non-Manager)']\n",
    "data_cleaned=data[data.sector!='Experienced(Non-Manager)']\n",
    "#re-run the model\n",
    "\n",
    "# Try the model using upper and lower ranges rather than midpoint\n",
    "df3=pd.get_dummies(data_cleaned[['state','sector']],drop_first=True)\n",
    "\n",
    "\n",
    "y2=data_cleaned['midpoint_salary']\n",
    "\n",
    "# Split into training and test set\n",
    "X_train, X_test, y_train,y_test = train_test_split(df3,y2,test_size=.22)\n",
    "\n",
    "decision_tree = DecisionTreeRegressor(max_depth=2, random_state=1)\n",
    "decision_tree.fit(X_train,y_train)\n",
    "print(\"Decision Tree RMSE:\",np.sqrt(metrics.mean_squared_error(y_test,decision_tree.predict(X_test))))\n",
    "\n",
    "#This allows us to make a decision tree real fast directly in the notebook!\n",
    "dot_data = StringIO()  \n",
    "export_graphviz(decision_tree, out_file=dot_data,  \n",
    "                    feature_names=X_train.columns.tolist(),  \n",
    "                    filled=True, rounded=True,  \n",
    "                    special_characters=True)  \n",
    "graph = pydotplus.graph_from_dot_data(dot_data.getvalue())  \n",
    "Image(graph.create_png())  "
   ]
  },
  {
   "cell_type": "code",
   "execution_count": 32,
   "metadata": {},
   "outputs": [
    {
     "data": {
      "text/plain": [
       "<bound method Series.unique of 13                  9.00 - 13.00 \n",
       "14         80,000.00 - 95,000.00 \n",
       "19         60,000.00 - 72,000.00 \n",
       "29        70,000.00 - 100,000.00 \n",
       "30                 62.00 - 81.00 \n",
       "32        75,000.00 - 100,000.00 \n",
       "36         68,000.00 - 72,000.00 \n",
       "41         58,000.00 - 65,000.00 \n",
       "43                 15.00 - 16.00 \n",
       "61        45,000.00 - 100,000.00 \n",
       "64         40,000.00 - 50,000.00 \n",
       "68                 13.75 - 16.75 \n",
       "80                 40.00 - 50.00 \n",
       "82         80,000.00 - 90,000.00 \n",
       "83         35,000.00 - 45,000.00 \n",
       "88        80,000.00 - 100,000.00 \n",
       "100        31,000.00 - 33,000.00 \n",
       "111                50.00 - 65.00 \n",
       "117      100,000.00 - 120,000.00 \n",
       "121                17.00 - 22.00 \n",
       "127       75,000.00 - 100,000.00 \n",
       "134        56,000.00 - 64,000.00 \n",
       "136                45.00 - 50.00 \n",
       "137                25.00 - 27.00 \n",
       "146       75,000.00 - 130,000.00 \n",
       "182       60,000.00 - 110,000.00 \n",
       "190       50,000.00 - 100,000.00 \n",
       "201                12.00 - 12.00 \n",
       "204        70,000.00 - 85,000.00 \n",
       "218                19.00 - 20.00 \n",
       "                   ...           \n",
       "21819     75,000.00 - 150,000.00 \n",
       "21822              11.75 - 12.75 \n",
       "21837    110,000.00 - 150,000.00 \n",
       "21848      48,000.00 - 52,000.00 \n",
       "21851      55,000.00 - 60,000.00 \n",
       "21855     70,000.00 - 100,000.00 \n",
       "21874              23.25 - 25.21 \n",
       "21878      70,000.00 - 75,000.00 \n",
       "21882      45,000.00 - 50,000.00 \n",
       "21883      45,000.00 - 75,000.00 \n",
       "21885              18.00 - 22.00 \n",
       "21906              75.00 - 85.00 \n",
       "21907      17,000.00 - 19,000.00 \n",
       "21909              17.00 - 21.00 \n",
       "21910      30,000.00 - 40,000.00 \n",
       "21912              20.00 - 22.00 \n",
       "21913              50.00 - 55.00 \n",
       "21916      75,000.00 - 95,000.00 \n",
       "21919      27,000.00 - 29,000.00 \n",
       "21927              30.00 - 35.00 \n",
       "21948      55,000.00 - 60,000.00 \n",
       "21960     75,000.00 - 100,000.00 \n",
       "21971      75,000.00 - 85,000.00 \n",
       "21973      70,000.00 - 80,000.00 \n",
       "21976      40,000.00 - 42,000.00 \n",
       "21982      70,000.00 - 80,000.00 \n",
       "21995    120,000.00 - 160,000.00 \n",
       "21996      45,000.00 - 60,000.00 \n",
       "21998              25.00 - 28.00 \n",
       "21999      40,000.00 - 46,000.00 \n",
       "Name: ranges, Length: 2458, dtype: object>"
      ]
     },
     "execution_count": 32,
     "metadata": {},
     "output_type": "execute_result"
    }
   ],
   "source": [
    "data.ranges.unique"
   ]
  },
  {
   "cell_type": "code",
   "execution_count": null,
   "metadata": {
    "collapsed": true
   },
   "outputs": [],
   "source": []
  },
  {
   "cell_type": "code",
   "execution_count": null,
   "metadata": {
    "collapsed": true
   },
   "outputs": [],
   "source": []
  },
  {
   "cell_type": "code",
   "execution_count": null,
   "metadata": {
    "collapsed": true
   },
   "outputs": [],
   "source": [
    "\n"
   ]
  }
 ],
 "metadata": {
  "kernelspec": {
   "display_name": "Python 2",
   "language": "python",
   "name": "python2"
  },
  "language_info": {
   "codemirror_mode": {
    "name": "ipython",
    "version": 2
   },
   "file_extension": ".py",
   "mimetype": "text/x-python",
   "name": "python",
   "nbconvert_exporter": "python",
   "pygments_lexer": "ipython2",
   "version": "2.7.13"
  }
 },
 "nbformat": 4,
 "nbformat_minor": 2
}
