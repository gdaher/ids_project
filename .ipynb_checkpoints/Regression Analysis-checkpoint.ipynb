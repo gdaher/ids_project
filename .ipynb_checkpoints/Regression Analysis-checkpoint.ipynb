{
 "cells": [
  {
   "cell_type": "code",
   "execution_count": 138,
   "metadata": {},
   "outputs": [],
   "source": [
    "## Import libraries\n",
    "#general\n",
    "import pandas as pd\n",
    "import os\n",
    "import numpy as np\n",
    "from sklearn import tree\n",
    "import graphviz\n",
    "from sklearn.linear_model import Ridge\n",
    "from sklearn.tree import DecisionTreeRegressor\n",
    "from sklearn.preprocessing import LabelEncoder, PolynomialFeatures, StandardScaler\n",
    "from sklearn.model_selection import cross_val_score, train_test_split\n",
    "from sklearn.ensemble import BaggingRegressor, RandomForestRegressor\n",
    "from sklearn.linear_model import LinearRegression\n",
    "from sklearn.model_selection import train_test_split\n",
    "from sklearn import metrics\n",
    "from sklearn.preprocessing import LabelEncoder\n",
    "from sklearn.preprocessing import OneHotEncoder\n",
    "import scipy.stats as stats\n",
    "import re\n",
    "from sklearn.externals.six import StringIO\n",
    "\n",
    "\n",
    "#visualization\n",
    "%matplotlib inline\n",
    "import seaborn as sns\n",
    "import matplotlib.pyplot as plt\n",
    "from IPython.display import Image\n",
    "import pydotplus\n",
    "from sklearn.tree import export_graphviz"
   ]
  },
  {
   "cell_type": "code",
   "execution_count": 139,
   "metadata": {},
   "outputs": [
    {
     "data": {
      "text/plain": [
       "Index([u'country', u'country_code', u'date_added', u'has_expired',\n",
       "       u'job_board', u'job_description', u'job_title', u'job_type',\n",
       "       u'location', u'organization', u'page_url', u'salary', u'sector',\n",
       "       u'uniq_id'],\n",
       "      dtype='object')"
      ]
     },
     "execution_count": 139,
     "metadata": {},
     "output_type": "execute_result"
    }
   ],
   "source": [
    "## Read in data\n",
    "data = pd.read_csv('monster_com-job_sample.csv')\n",
    "data.columns"
   ]
  },
  {
   "cell_type": "code",
   "execution_count": 140,
   "metadata": {},
   "outputs": [
    {
     "ename": "KeyboardInterrupt",
     "evalue": "",
     "output_type": "error",
     "traceback": [
      "\u001b[1;31m---------------------------------------------------------------------------\u001b[0m",
      "\u001b[1;31mKeyboardInterrupt\u001b[0m                         Traceback (most recent call last)",
      "\u001b[1;32m<ipython-input-140-ea63e08b8e1f>\u001b[0m in \u001b[0;36m<module>\u001b[1;34m()\u001b[0m\n\u001b[0;32m     14\u001b[0m     \u001b[0mdata\u001b[0m\u001b[1;33m[\u001b[0m\u001b[1;34m'full_time'\u001b[0m\u001b[1;33m]\u001b[0m\u001b[1;33m[\u001b[0m\u001b[0mindex\u001b[0m\u001b[1;33m]\u001b[0m\u001b[1;33m=\u001b[0m\u001b[0mbool\u001b[0m\u001b[1;33m(\u001b[0m\u001b[0mre\u001b[0m\u001b[1;33m.\u001b[0m\u001b[0msearch\u001b[0m\u001b[1;33m(\u001b[0m\u001b[1;34m'Full Time'\u001b[0m\u001b[1;33m,\u001b[0m\u001b[0mstr\u001b[0m\u001b[1;33m(\u001b[0m\u001b[0mdata\u001b[0m\u001b[1;33m.\u001b[0m\u001b[0mjob_type\u001b[0m\u001b[1;33m[\u001b[0m\u001b[0mindex\u001b[0m\u001b[1;33m]\u001b[0m\u001b[1;33m)\u001b[0m\u001b[1;33m)\u001b[0m\u001b[1;33m)\u001b[0m\u001b[1;33m\u001b[0m\u001b[0m\n\u001b[0;32m     15\u001b[0m     \u001b[0mdata\u001b[0m\u001b[1;33m[\u001b[0m\u001b[1;34m'part_time'\u001b[0m\u001b[1;33m]\u001b[0m\u001b[1;33m[\u001b[0m\u001b[0mindex\u001b[0m\u001b[1;33m]\u001b[0m\u001b[1;33m=\u001b[0m\u001b[0mbool\u001b[0m\u001b[1;33m(\u001b[0m\u001b[0mre\u001b[0m\u001b[1;33m.\u001b[0m\u001b[0msearch\u001b[0m\u001b[1;33m(\u001b[0m\u001b[1;34m'(part)|(Part)'\u001b[0m\u001b[1;33m,\u001b[0m\u001b[0mstr\u001b[0m\u001b[1;33m(\u001b[0m\u001b[0mdata\u001b[0m\u001b[1;33m.\u001b[0m\u001b[0mjob_type\u001b[0m\u001b[1;33m[\u001b[0m\u001b[0mindex\u001b[0m\u001b[1;33m]\u001b[0m\u001b[1;33m)\u001b[0m\u001b[1;33m)\u001b[0m\u001b[1;33m)\u001b[0m\u001b[1;33m\u001b[0m\u001b[0m\n\u001b[1;32m---> 16\u001b[1;33m     \u001b[0mdata\u001b[0m\u001b[1;33m[\u001b[0m\u001b[1;34m'analyst'\u001b[0m\u001b[1;33m]\u001b[0m\u001b[1;33m[\u001b[0m\u001b[0mindex\u001b[0m\u001b[1;33m]\u001b[0m\u001b[1;33m=\u001b[0m\u001b[0mbool\u001b[0m\u001b[1;33m(\u001b[0m\u001b[0mre\u001b[0m\u001b[1;33m.\u001b[0m\u001b[0msearch\u001b[0m\u001b[1;33m(\u001b[0m\u001b[1;34m'(analyst)|(Analyst)'\u001b[0m\u001b[1;33m,\u001b[0m\u001b[0mstr\u001b[0m\u001b[1;33m(\u001b[0m\u001b[0mdata\u001b[0m\u001b[1;33m.\u001b[0m\u001b[0mjob_title\u001b[0m\u001b[1;33m[\u001b[0m\u001b[0mindex\u001b[0m\u001b[1;33m]\u001b[0m\u001b[1;33m)\u001b[0m\u001b[1;33m)\u001b[0m\u001b[1;33m)\u001b[0m\u001b[1;33m\u001b[0m\u001b[0m\n\u001b[0m\u001b[0;32m     17\u001b[0m \u001b[1;33m\u001b[0m\u001b[0m\n\u001b[0;32m     18\u001b[0m \u001b[1;31m#extract salary ranges\u001b[0m\u001b[1;33m\u001b[0m\u001b[1;33m\u001b[0m\u001b[0m\n",
      "\u001b[1;32mC:\\Users\\daherg\\AppData\\Local\\Continuum\\Anaconda2\\lib\\site-packages\\pandas\\core\\series.pyc\u001b[0m in \u001b[0;36m__getitem__\u001b[1;34m(self, key)\u001b[0m\n\u001b[0;32m    597\u001b[0m \u001b[1;33m\u001b[0m\u001b[0m\n\u001b[0;32m    598\u001b[0m     \u001b[1;32mdef\u001b[0m \u001b[0m__getitem__\u001b[0m\u001b[1;33m(\u001b[0m\u001b[0mself\u001b[0m\u001b[1;33m,\u001b[0m \u001b[0mkey\u001b[0m\u001b[1;33m)\u001b[0m\u001b[1;33m:\u001b[0m\u001b[1;33m\u001b[0m\u001b[0m\n\u001b[1;32m--> 599\u001b[1;33m         \u001b[0mkey\u001b[0m \u001b[1;33m=\u001b[0m \u001b[0mcom\u001b[0m\u001b[1;33m.\u001b[0m\u001b[0m_apply_if_callable\u001b[0m\u001b[1;33m(\u001b[0m\u001b[0mkey\u001b[0m\u001b[1;33m,\u001b[0m \u001b[0mself\u001b[0m\u001b[1;33m)\u001b[0m\u001b[1;33m\u001b[0m\u001b[0m\n\u001b[0m\u001b[0;32m    600\u001b[0m         \u001b[1;32mtry\u001b[0m\u001b[1;33m:\u001b[0m\u001b[1;33m\u001b[0m\u001b[0m\n\u001b[0;32m    601\u001b[0m             \u001b[0mresult\u001b[0m \u001b[1;33m=\u001b[0m \u001b[0mself\u001b[0m\u001b[1;33m.\u001b[0m\u001b[0mindex\u001b[0m\u001b[1;33m.\u001b[0m\u001b[0mget_value\u001b[0m\u001b[1;33m(\u001b[0m\u001b[0mself\u001b[0m\u001b[1;33m,\u001b[0m \u001b[0mkey\u001b[0m\u001b[1;33m)\u001b[0m\u001b[1;33m\u001b[0m\u001b[0m\n",
      "\u001b[1;31mKeyboardInterrupt\u001b[0m: "
     ]
    }
   ],
   "source": [
    "## Parse salary data and prepare dataset\n",
    "#data['numbers']=''\n",
    "data['yearly'] = ''\n",
    "data['hourly'] =''\n",
    "data['full_time']=''\n",
    "data['part_time']=''\n",
    "data['analyst']=''\n",
    "\n",
    "for index in data.salary.index:\n",
    "\n",
    "    #data['numbers'][index]=bool(re.match(r'([0-9]+[^0-9]+)',str(data.salary[index])))\n",
    "    data['yearly'][index]=bool(re.search('\\$ /year',str(data.salary[index])))\n",
    "    data['hourly'][index]=bool(re.search('\\$ /hour',str(data.salary[index])))\n",
    "    data['full_time'][index]=bool(re.search('Full Time',str(data.job_type[index])))\n",
    "    data['part_time'][index]=bool(re.search('(part)|(Part)',str(data.job_type[index])))\n",
    "    data['analyst'][index]=bool(re.search('(analyst)|(Analyst)',str(data.job_title[index])))\n",
    "\n",
    "#extract salary ranges\n",
    "ranges=data.salary.str.extract(r'([0-9\\.\\,\\s]+.\\-[0-9\\.\\,\\s]+)',expand=True).rename(columns={0:'ranges'})\n",
    "data=data.join(ranges)\n",
    "\n",
    "#extract numbers\n",
    "numbers=data.salary.str.extract(r'([0-9]+\\s)',expand=True,).rename(columns={0:'numbers'})\n",
    "data=data.join(numbers)\n",
    "\n",
    "#parse salary ranges\n",
    "df=data['ranges'].str.split('-',expand=True).rename(columns={0:'lowest',1:'highest'})\n",
    "data=data.join(df)\n",
    "\n",
    "#convert columns to numeric\n",
    "numeric=pd.Index([u'lowest',u'highest',u'numbers'])\n",
    "\n",
    "for i in numeric:\n",
    "    data[i]=data[i].str.replace(' ','')\n",
    "    data[i]=data[i].str.replace(',','')\n",
    "    data[i]=pd.to_numeric(data[i])\n",
    "\n",
    "\n",
    "\n"
   ]
  },
  {
   "cell_type": "code",
   "execution_count": 29,
   "metadata": {
    "scrolled": true
   },
   "outputs": [
    {
     "name": "stderr",
     "output_type": "stream",
     "text": [
      "C:\\Users\\daherg\\AppData\\Local\\Continuum\\Anaconda2\\lib\\site-packages\\ipykernel_launcher.py:6: SettingWithCopyWarning: \n",
      "A value is trying to be set on a copy of a slice from a DataFrame\n",
      "\n",
      "See the caveats in the documentation: http://pandas.pydata.org/pandas-docs/stable/indexing.html#indexing-view-versus-copy\n",
      "  \n",
      "C:\\Users\\daherg\\AppData\\Local\\Continuum\\Anaconda2\\lib\\site-packages\\ipykernel_launcher.py:8: SettingWithCopyWarning: \n",
      "A value is trying to be set on a copy of a slice from a DataFrame\n",
      "\n",
      "See the caveats in the documentation: http://pandas.pydata.org/pandas-docs/stable/indexing.html#indexing-view-versus-copy\n",
      "  \n"
     ]
    },
    {
     "ename": "KeyboardInterrupt",
     "evalue": "",
     "output_type": "error",
     "traceback": [
      "\u001b[1;31m---------------------------------------------------------------------------\u001b[0m",
      "\u001b[1;31mKeyboardInterrupt\u001b[0m                         Traceback (most recent call last)",
      "\u001b[1;32m<ipython-input-29-b570b35620b8>\u001b[0m in \u001b[0;36m<module>\u001b[1;34m()\u001b[0m\n\u001b[0;32m      4\u001b[0m             \u001b[1;32mif\u001b[0m \u001b[1;33m(\u001b[0m\u001b[0mdata\u001b[0m\u001b[1;33m.\u001b[0m\u001b[0mhourly\u001b[0m\u001b[1;33m[\u001b[0m\u001b[0mindex\u001b[0m\u001b[1;33m]\u001b[0m\u001b[1;33m==\u001b[0m\u001b[0mTrue\u001b[0m\u001b[1;33m)\u001b[0m\u001b[1;33m:\u001b[0m\u001b[1;33m\u001b[0m\u001b[0m\n\u001b[0;32m      5\u001b[0m                 \u001b[1;32mif\u001b[0m\u001b[1;33m(\u001b[0m\u001b[0mdata\u001b[0m\u001b[1;33m.\u001b[0m\u001b[0mpart_time\u001b[0m\u001b[1;33m[\u001b[0m\u001b[0mindex\u001b[0m\u001b[1;33m]\u001b[0m\u001b[1;33m==\u001b[0m\u001b[0mFalse\u001b[0m\u001b[1;33m)\u001b[0m\u001b[1;33m:\u001b[0m\u001b[1;33m\u001b[0m\u001b[0m\n\u001b[1;32m----> 6\u001b[1;33m                     \u001b[0mdata\u001b[0m\u001b[1;33m[\u001b[0m\u001b[0mi\u001b[0m\u001b[1;33m]\u001b[0m\u001b[1;33m[\u001b[0m\u001b[0mindex\u001b[0m\u001b[1;33m]\u001b[0m\u001b[1;33m=\u001b[0m\u001b[0mdata\u001b[0m\u001b[1;33m[\u001b[0m\u001b[0mi\u001b[0m\u001b[1;33m]\u001b[0m\u001b[1;33m[\u001b[0m\u001b[0mindex\u001b[0m\u001b[1;33m]\u001b[0m\u001b[1;33m*\u001b[0m\u001b[1;36m40\u001b[0m\u001b[1;33m*\u001b[0m\u001b[1;36m52\u001b[0m\u001b[1;33m\u001b[0m\u001b[0m\n\u001b[0m\u001b[0;32m      7\u001b[0m                 \u001b[1;32melse\u001b[0m\u001b[1;33m:\u001b[0m\u001b[1;33m\u001b[0m\u001b[0m\n\u001b[0;32m      8\u001b[0m                    \u001b[0mdata\u001b[0m\u001b[1;33m[\u001b[0m\u001b[0mi\u001b[0m\u001b[1;33m]\u001b[0m\u001b[1;33m[\u001b[0m\u001b[0mindex\u001b[0m\u001b[1;33m]\u001b[0m\u001b[1;33m=\u001b[0m\u001b[0mdata\u001b[0m\u001b[1;33m[\u001b[0m\u001b[0mi\u001b[0m\u001b[1;33m]\u001b[0m\u001b[1;33m[\u001b[0m\u001b[0mindex\u001b[0m\u001b[1;33m]\u001b[0m\u001b[1;33m*\u001b[0m\u001b[1;36m20\u001b[0m\u001b[1;33m*\u001b[0m\u001b[1;36m52\u001b[0m\u001b[1;33m\u001b[0m\u001b[0m\n",
      "\u001b[1;32mC:\\Users\\daherg\\AppData\\Local\\Continuum\\Anaconda2\\lib\\site-packages\\pandas\\core\\series.pyc\u001b[0m in \u001b[0;36m__setitem__\u001b[1;34m(self, key, value)\u001b[0m\n\u001b[0;32m    771\u001b[0m         \u001b[0msetitem\u001b[0m\u001b[1;33m(\u001b[0m\u001b[0mkey\u001b[0m\u001b[1;33m,\u001b[0m \u001b[0mvalue\u001b[0m\u001b[1;33m)\u001b[0m\u001b[1;33m\u001b[0m\u001b[0m\n\u001b[0;32m    772\u001b[0m         \u001b[1;32mif\u001b[0m \u001b[0mcacher_needs_updating\u001b[0m\u001b[1;33m:\u001b[0m\u001b[1;33m\u001b[0m\u001b[0m\n\u001b[1;32m--> 773\u001b[1;33m             \u001b[0mself\u001b[0m\u001b[1;33m.\u001b[0m\u001b[0m_maybe_update_cacher\u001b[0m\u001b[1;33m(\u001b[0m\u001b[1;33m)\u001b[0m\u001b[1;33m\u001b[0m\u001b[0m\n\u001b[0m\u001b[0;32m    774\u001b[0m \u001b[1;33m\u001b[0m\u001b[0m\n\u001b[0;32m    775\u001b[0m     \u001b[1;32mdef\u001b[0m \u001b[0m_set_with_engine\u001b[0m\u001b[1;33m(\u001b[0m\u001b[0mself\u001b[0m\u001b[1;33m,\u001b[0m \u001b[0mkey\u001b[0m\u001b[1;33m,\u001b[0m \u001b[0mvalue\u001b[0m\u001b[1;33m)\u001b[0m\u001b[1;33m:\u001b[0m\u001b[1;33m\u001b[0m\u001b[0m\n",
      "\u001b[1;32mC:\\Users\\daherg\\AppData\\Local\\Continuum\\Anaconda2\\lib\\site-packages\\pandas\\core\\generic.pyc\u001b[0m in \u001b[0;36m_maybe_update_cacher\u001b[1;34m(self, clear, verify_is_copy)\u001b[0m\n\u001b[0;32m   1603\u001b[0m         \"\"\"\n\u001b[0;32m   1604\u001b[0m \u001b[1;33m\u001b[0m\u001b[0m\n\u001b[1;32m-> 1605\u001b[1;33m         \u001b[0mcacher\u001b[0m \u001b[1;33m=\u001b[0m \u001b[0mgetattr\u001b[0m\u001b[1;33m(\u001b[0m\u001b[0mself\u001b[0m\u001b[1;33m,\u001b[0m \u001b[1;34m'_cacher'\u001b[0m\u001b[1;33m,\u001b[0m \u001b[0mNone\u001b[0m\u001b[1;33m)\u001b[0m\u001b[1;33m\u001b[0m\u001b[0m\n\u001b[0m\u001b[0;32m   1606\u001b[0m         \u001b[1;32mif\u001b[0m \u001b[0mcacher\u001b[0m \u001b[1;32mis\u001b[0m \u001b[1;32mnot\u001b[0m \u001b[0mNone\u001b[0m\u001b[1;33m:\u001b[0m\u001b[1;33m\u001b[0m\u001b[0m\n\u001b[0;32m   1607\u001b[0m             \u001b[0mref\u001b[0m \u001b[1;33m=\u001b[0m \u001b[0mcacher\u001b[0m\u001b[1;33m[\u001b[0m\u001b[1;36m1\u001b[0m\u001b[1;33m]\u001b[0m\u001b[1;33m(\u001b[0m\u001b[1;33m)\u001b[0m\u001b[1;33m\u001b[0m\u001b[0m\n",
      "\u001b[1;31mKeyboardInterrupt\u001b[0m: "
     ]
    }
   ],
   "source": [
    "#convert units of hours into units of years\n",
    "for index in data.salary.index:\n",
    "        for i in numeric:\n",
    "            if (data.hourly[index]==True):\n",
    "                if(data.part_time[index]==False):\n",
    "                    data[i][index]=data[i][index]*40*52\n",
    "                else:\n",
    "                   data[i][index]=data[i][index]*20*52"
   ]
  },
  {
   "cell_type": "code",
   "execution_count": null,
   "metadata": {},
   "outputs": [],
   "source": [
    "#get midpoint data for ranges\n",
    "data['midpoint_salary']=(data['lowest']+data['highest'])/2\n",
    "\n",
    "#add non-range salaries to midpoints column\n",
    "for index in data.salary.index:\n",
    "    if(pd.isnull(data.ranges[index])&pd.notnull(data.numbers[index])):\n",
    "        data.midpoint_salary[index]=data.numbers[index]"
   ]
  },
  {
   "cell_type": "code",
   "execution_count": 2,
   "metadata": {},
   "outputs": [
    {
     "ename": "NameError",
     "evalue": "name 'data' is not defined",
     "output_type": "error",
     "traceback": [
      "\u001b[1;31m---------------------------------------------------------------------------\u001b[0m",
      "\u001b[1;31mNameError\u001b[0m                                 Traceback (most recent call last)",
      "\u001b[1;32m<ipython-input-2-9775200c604d>\u001b[0m in \u001b[0;36m<module>\u001b[1;34m()\u001b[0m\n\u001b[0;32m      1\u001b[0m \u001b[1;31m#write cleaned data to csv\u001b[0m\u001b[1;33m\u001b[0m\u001b[1;33m\u001b[0m\u001b[0m\n\u001b[1;32m----> 2\u001b[1;33m \u001b[0mdata\u001b[0m\u001b[1;33m.\u001b[0m\u001b[0mto_csv\u001b[0m\u001b[1;33m(\u001b[0m\u001b[1;34m'monster_com-job_sample_cleaned.csv'\u001b[0m\u001b[1;33m)\u001b[0m\u001b[1;33m\u001b[0m\u001b[0m\n\u001b[0m",
      "\u001b[1;31mNameError\u001b[0m: name 'data' is not defined"
     ]
    }
   ],
   "source": [
    "#write cleaned data to csv\n",
    "#data.to_csv('monster_com-job_sample_cleaned.csv')"
   ]
  },
  {
   "cell_type": "code",
   "execution_count": 195,
   "metadata": {},
   "outputs": [],
   "source": [
    "data=pd.read_csv('monster_com-job_sample_cleaned.csv')\n",
    "#remove nan's\n",
    "data=data.dropna(subset=['midpoint_salary'])\n",
    "#only yearly and hourly salary\n",
    "data=data[data.yearly|data.hourly]"
   ]
  },
  {
   "cell_type": "code",
   "execution_count": 196,
   "metadata": {
    "collapsed": true
   },
   "outputs": [],
   "source": [
    "#only include non-bogus salaries. The lowest possible minimum wage job in the US pays at least $7/hour\n",
    "part_time_min=7*20*52\n",
    "full_time_min=7*40*52\n",
    "\n",
    "# filter out any salaries lower than $7/hour\n",
    "data=data[((data.lowest>=part_time_min)&(data.highest>=part_time_min)&(data.part_time==True))|((data.lowest>=full_time_min)&(data.highest>=full_time_min)&(data.part_time==False))]\n",
    "\n",
    "# filter out any salaries larger than $9,000,000 a year. Jobs claiming to pay more than that on a job board site would be a bit suspect.\n",
    "data=data[data.highest<=9000000]\n",
    "\n",
    "# filter out only salaries in the US, our country of interest.\n",
    "data=data[data.country_code=='US']\n",
    "\n",
    "# filter out only full time salaries, as these are what interests us\n",
    "data=data[data.part_time==False]\n",
    "\n",
    "# make states column\n",
    "states=r'(AK|AL|AR|AZ|CA|CO|CT|DE|FL|GA|HI|IA|ID|IL|IN|KS|KY|LA|MA|MD|ME|MI|MN|MO|MS|MT|NC|ND|NE|NH|NJ|NM|NV|NY|OH|OK|OR|PA|RI|SC|SD|TN|TX|UT|VA|VT|WA|WI|WV|WY)'\n",
    "\n",
    "state=data.location.str.extract(states,expand=True,).rename(columns={0:'state'})\n",
    "data=data.join(state)\n",
    "\n"
   ]
  },
  {
   "cell_type": "code",
   "execution_count": 197,
   "metadata": {
    "collapsed": true
   },
   "outputs": [],
   "source": [
    "#fix sector information\n",
    "i='sector'\n",
    "\n",
    "data['sector']=data['sector'].str.replace(' ','')\n",
    "data['sector']=data['sector'].str.replace(',','')\n"
   ]
  },
  {
   "cell_type": "code",
   "execution_count": 198,
   "metadata": {},
   "outputs": [
    {
     "name": "stdout",
     "output_type": "stream",
     "text": [
      "('max:', 945360.0)\n",
      "('min:', 15600.0)\n"
     ]
    }
   ],
   "source": [
    "#check min and max salaries\n",
    "print('max:',data.midpoint_salary.max())\n",
    "print('min:',data.midpoint_salary.min())\n",
    "#data.sort_values(by='midpoint_salary',ascending=False)"
   ]
  },
  {
   "cell_type": "code",
   "execution_count": 199,
   "metadata": {},
   "outputs": [],
   "source": [
    "# remove data point 7194, as it is highly unlikely that a picker/packer makes $900/hour\n",
    "data=data.drop(7194)\n",
    "\n",
    "#remove na values\n",
    "data=data[pd.notnull(data.sector)|pd.notnull(data.state)]"
   ]
  },
  {
   "cell_type": "code",
   "execution_count": 200,
   "metadata": {},
   "outputs": [
    {
     "name": "stdout",
     "output_type": "stream",
     "text": [
      "('coefficient: ', array([ -2.93548182e+03,   2.05359574e+03,  -2.98798415e+04,\n",
      "        -1.69443437e+03,  -1.30815556e+04,   4.26083423e+03,\n",
      "         7.81376059e+03,  -2.16749559e+04,  -3.01804213e+04,\n",
      "        -1.18351069e+04,   5.84674862e+04,   2.38563659e+03,\n",
      "        -2.01640556e+04,  -9.74623192e+03,  -7.57235798e+03,\n",
      "        -1.27123673e+04,   1.89823449e+04,  -1.30899295e+04,\n",
      "        -3.17067924e+03,  -2.46917043e+03,  -3.52281481e+03,\n",
      "        -1.45709796e+04,  -6.74081064e+03,  -9.02708140e+04,\n",
      "         1.32966883e+04,   4.13467382e+04,  -3.64212618e+04,\n",
      "        -1.82648805e+04,   2.54684000e+03,   1.07610751e+04,\n",
      "        -6.81556626e+02,   7.83081816e+03,  -1.52161428e+04,\n",
      "        -1.91112908e+04,  -2.62534785e+04,  -1.12688069e+04,\n",
      "         3.33625771e+03,  -1.23890014e+04,  -3.32525138e+04,\n",
      "        -2.71779539e+04,  -3.09979676e+03,  -7.05268536e+03,\n",
      "        -2.07583863e+03,  -6.51714523e+03,  -1.26023866e+04,\n",
      "        -1.08511322e+04,   2.68558658e+04,  -1.92799141e+03,\n",
      "        -8.07562808e+03,  -3.13158360e+04,  -3.29465477e+04,\n",
      "         1.09383230e+04,   1.28632455e+04,  -1.38321279e+04,\n",
      "        -4.46893890e+04,  -3.83869890e+04,  -3.07805952e+04,\n",
      "         4.20720086e+04,  -3.52977084e+03,   1.79503152e+03,\n",
      "         2.48304887e+03,  -3.21869100e+04,   6.81266798e+04,\n",
      "        -1.06116204e+04,  -1.37845237e+04,   1.07320375e-10,\n",
      "        -9.20865242e+03,  -9.45874490e-11,  -5.36574769e+03,\n",
      "        -8.07330985e+03,   3.34482548e+04,  -3.63797881e-11,\n",
      "        -2.45708100e+04,   8.04110158e+03,  -1.59097973e+04,\n",
      "        -4.42021449e+04,   4.13692896e+03,  -2.91545570e+04,\n",
      "         1.24473272e+04,   8.11317282e+03,  -1.73051573e+04,\n",
      "         2.05368446e+03,  -3.49087249e+03,  -2.45789484e+03,\n",
      "        -3.07939879e+04,  -6.47674366e+03,  -4.25781448e+04,\n",
      "        -1.16443375e+04,   3.16720086e+04,  -2.20681477e+04]))\n",
      "('intercept: ', 77144.134246348971)\n",
      "('Training set RMSE:', 50059.715088924386)\n"
     ]
    },
    {
     "data": {
      "text/html": [
       "<div>\n",
       "<style>\n",
       "    .dataframe thead tr:only-child th {\n",
       "        text-align: right;\n",
       "    }\n",
       "\n",
       "    .dataframe thead th {\n",
       "        text-align: left;\n",
       "    }\n",
       "\n",
       "    .dataframe tbody tr th {\n",
       "        vertical-align: top;\n",
       "    }\n",
       "</style>\n",
       "<table border=\"1\" class=\"dataframe\">\n",
       "  <thead>\n",
       "    <tr style=\"text-align: right;\">\n",
       "      <th></th>\n",
       "      <th>0</th>\n",
       "      <th>0</th>\n",
       "    </tr>\n",
       "  </thead>\n",
       "  <tbody>\n",
       "    <tr>\n",
       "      <th>0</th>\n",
       "      <td>state_AL</td>\n",
       "      <td>-2.935482e+03</td>\n",
       "    </tr>\n",
       "    <tr>\n",
       "      <th>1</th>\n",
       "      <td>state_AR</td>\n",
       "      <td>2.053596e+03</td>\n",
       "    </tr>\n",
       "    <tr>\n",
       "      <th>2</th>\n",
       "      <td>state_AZ</td>\n",
       "      <td>-2.987984e+04</td>\n",
       "    </tr>\n",
       "    <tr>\n",
       "      <th>3</th>\n",
       "      <td>state_CA</td>\n",
       "      <td>-1.694434e+03</td>\n",
       "    </tr>\n",
       "    <tr>\n",
       "      <th>4</th>\n",
       "      <td>state_CO</td>\n",
       "      <td>-1.308156e+04</td>\n",
       "    </tr>\n",
       "    <tr>\n",
       "      <th>5</th>\n",
       "      <td>state_CT</td>\n",
       "      <td>4.260834e+03</td>\n",
       "    </tr>\n",
       "    <tr>\n",
       "      <th>6</th>\n",
       "      <td>state_DE</td>\n",
       "      <td>7.813761e+03</td>\n",
       "    </tr>\n",
       "    <tr>\n",
       "      <th>7</th>\n",
       "      <td>state_FL</td>\n",
       "      <td>-2.167496e+04</td>\n",
       "    </tr>\n",
       "    <tr>\n",
       "      <th>8</th>\n",
       "      <td>state_GA</td>\n",
       "      <td>-3.018042e+04</td>\n",
       "    </tr>\n",
       "    <tr>\n",
       "      <th>9</th>\n",
       "      <td>state_IA</td>\n",
       "      <td>-1.183511e+04</td>\n",
       "    </tr>\n",
       "    <tr>\n",
       "      <th>10</th>\n",
       "      <td>state_ID</td>\n",
       "      <td>5.846749e+04</td>\n",
       "    </tr>\n",
       "    <tr>\n",
       "      <th>11</th>\n",
       "      <td>state_IL</td>\n",
       "      <td>2.385637e+03</td>\n",
       "    </tr>\n",
       "    <tr>\n",
       "      <th>12</th>\n",
       "      <td>state_IN</td>\n",
       "      <td>-2.016406e+04</td>\n",
       "    </tr>\n",
       "    <tr>\n",
       "      <th>13</th>\n",
       "      <td>state_KS</td>\n",
       "      <td>-9.746232e+03</td>\n",
       "    </tr>\n",
       "    <tr>\n",
       "      <th>14</th>\n",
       "      <td>state_KY</td>\n",
       "      <td>-7.572358e+03</td>\n",
       "    </tr>\n",
       "    <tr>\n",
       "      <th>15</th>\n",
       "      <td>state_LA</td>\n",
       "      <td>-1.271237e+04</td>\n",
       "    </tr>\n",
       "    <tr>\n",
       "      <th>16</th>\n",
       "      <td>state_MA</td>\n",
       "      <td>1.898234e+04</td>\n",
       "    </tr>\n",
       "    <tr>\n",
       "      <th>17</th>\n",
       "      <td>state_MD</td>\n",
       "      <td>-1.308993e+04</td>\n",
       "    </tr>\n",
       "    <tr>\n",
       "      <th>18</th>\n",
       "      <td>state_ME</td>\n",
       "      <td>-3.170679e+03</td>\n",
       "    </tr>\n",
       "    <tr>\n",
       "      <th>19</th>\n",
       "      <td>state_MI</td>\n",
       "      <td>-2.469170e+03</td>\n",
       "    </tr>\n",
       "    <tr>\n",
       "      <th>20</th>\n",
       "      <td>state_MN</td>\n",
       "      <td>-3.522815e+03</td>\n",
       "    </tr>\n",
       "    <tr>\n",
       "      <th>21</th>\n",
       "      <td>state_MO</td>\n",
       "      <td>-1.457098e+04</td>\n",
       "    </tr>\n",
       "    <tr>\n",
       "      <th>22</th>\n",
       "      <td>state_MS</td>\n",
       "      <td>-6.740811e+03</td>\n",
       "    </tr>\n",
       "    <tr>\n",
       "      <th>23</th>\n",
       "      <td>state_MT</td>\n",
       "      <td>-9.027081e+04</td>\n",
       "    </tr>\n",
       "    <tr>\n",
       "      <th>24</th>\n",
       "      <td>state_NC</td>\n",
       "      <td>1.329669e+04</td>\n",
       "    </tr>\n",
       "    <tr>\n",
       "      <th>25</th>\n",
       "      <td>state_ND</td>\n",
       "      <td>4.134674e+04</td>\n",
       "    </tr>\n",
       "    <tr>\n",
       "      <th>26</th>\n",
       "      <td>state_NE</td>\n",
       "      <td>-3.642126e+04</td>\n",
       "    </tr>\n",
       "    <tr>\n",
       "      <th>27</th>\n",
       "      <td>state_NH</td>\n",
       "      <td>-1.826488e+04</td>\n",
       "    </tr>\n",
       "    <tr>\n",
       "      <th>28</th>\n",
       "      <td>state_NJ</td>\n",
       "      <td>2.546840e+03</td>\n",
       "    </tr>\n",
       "    <tr>\n",
       "      <th>29</th>\n",
       "      <td>state_NM</td>\n",
       "      <td>1.076108e+04</td>\n",
       "    </tr>\n",
       "    <tr>\n",
       "      <th>...</th>\n",
       "      <td>...</td>\n",
       "      <td>...</td>\n",
       "    </tr>\n",
       "    <tr>\n",
       "      <th>60</th>\n",
       "      <td>sector_Engineering</td>\n",
       "      <td>2.483049e+03</td>\n",
       "    </tr>\n",
       "    <tr>\n",
       "      <th>61</th>\n",
       "      <td>sector_EntryLevel</td>\n",
       "      <td>-3.218691e+04</td>\n",
       "    </tr>\n",
       "    <tr>\n",
       "      <th>62</th>\n",
       "      <td>sector_Executive(SVPVPDepartmentHeadetc)</td>\n",
       "      <td>6.812668e+04</td>\n",
       "    </tr>\n",
       "    <tr>\n",
       "      <th>63</th>\n",
       "      <td>sector_Experienced(Non-Manager)</td>\n",
       "      <td>-1.061162e+04</td>\n",
       "    </tr>\n",
       "    <tr>\n",
       "      <th>64</th>\n",
       "      <td>sector_FoodServices/Hospitality</td>\n",
       "      <td>-1.378452e+04</td>\n",
       "    </tr>\n",
       "    <tr>\n",
       "      <th>65</th>\n",
       "      <td>sector_General/Other:Accounting/Finance</td>\n",
       "      <td>1.073204e-10</td>\n",
       "    </tr>\n",
       "    <tr>\n",
       "      <th>66</th>\n",
       "      <td>sector_General/Other:FoodServices</td>\n",
       "      <td>-9.208652e+03</td>\n",
       "    </tr>\n",
       "    <tr>\n",
       "      <th>67</th>\n",
       "      <td>sector_General/Other:IT/SoftwareDevelopment</td>\n",
       "      <td>-9.458745e-11</td>\n",
       "    </tr>\n",
       "    <tr>\n",
       "      <th>68</th>\n",
       "      <td>sector_General/Other:Medical/HealthVeterinary/...</td>\n",
       "      <td>-5.365748e+03</td>\n",
       "    </tr>\n",
       "    <tr>\n",
       "      <th>69</th>\n",
       "      <td>sector_HumanResources</td>\n",
       "      <td>-8.073310e+03</td>\n",
       "    </tr>\n",
       "    <tr>\n",
       "      <th>70</th>\n",
       "      <td>sector_IT/SoftwareDevelopment</td>\n",
       "      <td>3.344825e+04</td>\n",
       "    </tr>\n",
       "    <tr>\n",
       "      <th>71</th>\n",
       "      <td>sector_ITProjectManagementGeneral/Other:Projec...</td>\n",
       "      <td>-3.637979e-11</td>\n",
       "    </tr>\n",
       "    <tr>\n",
       "      <th>72</th>\n",
       "      <td>sector_Installation/Maintenance/Repair</td>\n",
       "      <td>-2.457081e+04</td>\n",
       "    </tr>\n",
       "    <tr>\n",
       "      <th>73</th>\n",
       "      <td>sector_InsuranceAgent/BrokerGeneral/Other:Sale...</td>\n",
       "      <td>8.041102e+03</td>\n",
       "    </tr>\n",
       "    <tr>\n",
       "      <th>74</th>\n",
       "      <td>sector_Legal</td>\n",
       "      <td>-1.590980e+04</td>\n",
       "    </tr>\n",
       "    <tr>\n",
       "      <th>75</th>\n",
       "      <td>sector_Logistics/Transportation</td>\n",
       "      <td>-4.420214e+04</td>\n",
       "    </tr>\n",
       "    <tr>\n",
       "      <th>76</th>\n",
       "      <td>sector_Manager(Manager/SupervisorofStaff)</td>\n",
       "      <td>4.136929e+03</td>\n",
       "    </tr>\n",
       "    <tr>\n",
       "      <th>77</th>\n",
       "      <td>sector_Manufacturing/Production/Operations</td>\n",
       "      <td>-2.915456e+04</td>\n",
       "    </tr>\n",
       "    <tr>\n",
       "      <th>78</th>\n",
       "      <td>sector_Marketing/Product</td>\n",
       "      <td>1.244733e+04</td>\n",
       "    </tr>\n",
       "    <tr>\n",
       "      <th>79</th>\n",
       "      <td>sector_Medical/Health</td>\n",
       "      <td>8.113173e+03</td>\n",
       "    </tr>\n",
       "    <tr>\n",
       "      <th>80</th>\n",
       "      <td>sector_Other</td>\n",
       "      <td>-1.730516e+04</td>\n",
       "    </tr>\n",
       "    <tr>\n",
       "      <th>81</th>\n",
       "      <td>sector_Project/ProgramManagement</td>\n",
       "      <td>2.053684e+03</td>\n",
       "    </tr>\n",
       "    <tr>\n",
       "      <th>82</th>\n",
       "      <td>sector_QualityAssurance/Safety</td>\n",
       "      <td>-3.490872e+03</td>\n",
       "    </tr>\n",
       "    <tr>\n",
       "      <th>83</th>\n",
       "      <td>sector_Sales/Retail/BusinessDevelopment</td>\n",
       "      <td>-2.457895e+03</td>\n",
       "    </tr>\n",
       "    <tr>\n",
       "      <th>84</th>\n",
       "      <td>sector_Security/ProtectiveServices</td>\n",
       "      <td>-3.079399e+04</td>\n",
       "    </tr>\n",
       "    <tr>\n",
       "      <th>85</th>\n",
       "      <td>sector_Student(HighSchool)</td>\n",
       "      <td>-6.476744e+03</td>\n",
       "    </tr>\n",
       "    <tr>\n",
       "      <th>86</th>\n",
       "      <td>sector_Student(Undergraduate/Graduate)</td>\n",
       "      <td>-4.257814e+04</td>\n",
       "    </tr>\n",
       "    <tr>\n",
       "      <th>87</th>\n",
       "      <td>sector_SystemsAnalysis-IT</td>\n",
       "      <td>-1.164434e+04</td>\n",
       "    </tr>\n",
       "    <tr>\n",
       "      <th>88</th>\n",
       "      <td>sector_SystemsAnalysis-ITWeb/UI/UXDesign</td>\n",
       "      <td>3.167201e+04</td>\n",
       "    </tr>\n",
       "    <tr>\n",
       "      <th>89</th>\n",
       "      <td>sector_Veterinary/AnimalCare</td>\n",
       "      <td>-2.206815e+04</td>\n",
       "    </tr>\n",
       "  </tbody>\n",
       "</table>\n",
       "<p>90 rows × 2 columns</p>\n",
       "</div>"
      ],
      "text/plain": [
       "                                                    0             0\n",
       "0                                            state_AL -2.935482e+03\n",
       "1                                            state_AR  2.053596e+03\n",
       "2                                            state_AZ -2.987984e+04\n",
       "3                                            state_CA -1.694434e+03\n",
       "4                                            state_CO -1.308156e+04\n",
       "5                                            state_CT  4.260834e+03\n",
       "6                                            state_DE  7.813761e+03\n",
       "7                                            state_FL -2.167496e+04\n",
       "8                                            state_GA -3.018042e+04\n",
       "9                                            state_IA -1.183511e+04\n",
       "10                                           state_ID  5.846749e+04\n",
       "11                                           state_IL  2.385637e+03\n",
       "12                                           state_IN -2.016406e+04\n",
       "13                                           state_KS -9.746232e+03\n",
       "14                                           state_KY -7.572358e+03\n",
       "15                                           state_LA -1.271237e+04\n",
       "16                                           state_MA  1.898234e+04\n",
       "17                                           state_MD -1.308993e+04\n",
       "18                                           state_ME -3.170679e+03\n",
       "19                                           state_MI -2.469170e+03\n",
       "20                                           state_MN -3.522815e+03\n",
       "21                                           state_MO -1.457098e+04\n",
       "22                                           state_MS -6.740811e+03\n",
       "23                                           state_MT -9.027081e+04\n",
       "24                                           state_NC  1.329669e+04\n",
       "25                                           state_ND  4.134674e+04\n",
       "26                                           state_NE -3.642126e+04\n",
       "27                                           state_NH -1.826488e+04\n",
       "28                                           state_NJ  2.546840e+03\n",
       "29                                           state_NM  1.076108e+04\n",
       "..                                                ...           ...\n",
       "60                                 sector_Engineering  2.483049e+03\n",
       "61                                  sector_EntryLevel -3.218691e+04\n",
       "62           sector_Executive(SVPVPDepartmentHeadetc)  6.812668e+04\n",
       "63                    sector_Experienced(Non-Manager) -1.061162e+04\n",
       "64                    sector_FoodServices/Hospitality -1.378452e+04\n",
       "65            sector_General/Other:Accounting/Finance  1.073204e-10\n",
       "66                  sector_General/Other:FoodServices -9.208652e+03\n",
       "67        sector_General/Other:IT/SoftwareDevelopment -9.458745e-11\n",
       "68  sector_General/Other:Medical/HealthVeterinary/... -5.365748e+03\n",
       "69                              sector_HumanResources -8.073310e+03\n",
       "70                      sector_IT/SoftwareDevelopment  3.344825e+04\n",
       "71  sector_ITProjectManagementGeneral/Other:Projec... -3.637979e-11\n",
       "72             sector_Installation/Maintenance/Repair -2.457081e+04\n",
       "73  sector_InsuranceAgent/BrokerGeneral/Other:Sale...  8.041102e+03\n",
       "74                                       sector_Legal -1.590980e+04\n",
       "75                    sector_Logistics/Transportation -4.420214e+04\n",
       "76          sector_Manager(Manager/SupervisorofStaff)  4.136929e+03\n",
       "77         sector_Manufacturing/Production/Operations -2.915456e+04\n",
       "78                           sector_Marketing/Product  1.244733e+04\n",
       "79                              sector_Medical/Health  8.113173e+03\n",
       "80                                       sector_Other -1.730516e+04\n",
       "81                   sector_Project/ProgramManagement  2.053684e+03\n",
       "82                     sector_QualityAssurance/Safety -3.490872e+03\n",
       "83            sector_Sales/Retail/BusinessDevelopment -2.457895e+03\n",
       "84                 sector_Security/ProtectiveServices -3.079399e+04\n",
       "85                         sector_Student(HighSchool) -6.476744e+03\n",
       "86             sector_Student(Undergraduate/Graduate) -4.257814e+04\n",
       "87                          sector_SystemsAnalysis-IT -1.164434e+04\n",
       "88           sector_SystemsAnalysis-ITWeb/UI/UXDesign  3.167201e+04\n",
       "89                       sector_Veterinary/AnimalCare -2.206815e+04\n",
       "\n",
       "[90 rows x 2 columns]"
      ]
     },
     "execution_count": 200,
     "metadata": {},
     "output_type": "execute_result"
    }
   ],
   "source": [
    "## Prepare data for linear model and run\n",
    "\n",
    "#onehotencode variables using dummies and separate out dependent and independent features\n",
    "df=pd.get_dummies(data[['state','sector']],drop_first=False)\n",
    "y=data['midpoint_salary']\n",
    "\n",
    "#split into training and test set\n",
    "X_train_1, X_test_1, y_train_1,y_test_1 = train_test_split(df,y,test_size=.22)\n",
    "\n",
    "#run model\n",
    "lm=LinearRegression()\n",
    "lm.fit(X_train_1,y_train_1)\n",
    "\n",
    "print('coefficient: ',lm.coef_)\n",
    "print('intercept: ',lm.intercept_) \n",
    "y_pred_test=lm.predict(X_test_1)\n",
    "\n",
    "\n",
    "\n",
    "print(\"Training set RMSE:\",np.sqrt(metrics.mean_squared_error(y_test_1, y_pred_test)))\n",
    "\n",
    "coefficients = pd.concat([pd.DataFrame(df.columns),pd.DataFrame(np.transpose(lm.coef_))], axis = 1)\n",
    "coefficients\n"
   ]
  },
  {
   "cell_type": "markdown",
   "metadata": {},
   "source": [
    "Some of the sector features seem to not be sectors at all (e.g. CareerLevelEntryLevel). This confuses the dataset, as I  we do not have good information for this on every job posting. I will remove this and other offending rows to see if there will be an improvement."
   ]
  },
  {
   "cell_type": "code",
   "execution_count": 202,
   "metadata": {
    "collapsed": true
   },
   "outputs": [],
   "source": [
    "# only include analyst positions\n",
    "data2=data[data.analyst==True]\n"
   ]
  },
  {
   "cell_type": "code",
   "execution_count": 215,
   "metadata": {},
   "outputs": [
    {
     "data": {
      "text/plain": [
       "LinearRegression(copy_X=True, fit_intercept=True, n_jobs=1, normalize=False)"
      ]
     },
     "execution_count": 215,
     "metadata": {},
     "output_type": "execute_result"
    }
   ],
   "source": [
    "# onehotencode variables using dummies and separate out dependent and independent features\n",
    "df2=pd.get_dummies(data2[['state','sector']],drop_first=True)\n",
    "y=data2['midpoint_salary']\n",
    "\n",
    "# Split into training and test set\n",
    "X_train, X_test, y_train,y_test = train_test_split(df2,y,test_size=.22)\n",
    "\n",
    "# run model\n",
    "lm=LinearRegression()\n",
    "lm.fit(X_train,y_train)"
   ]
  },
  {
   "cell_type": "code",
   "execution_count": 223,
   "metadata": {},
   "outputs": [
    {
     "name": "stdout",
     "output_type": "stream",
     "text": [
      "('Training set RMSE:', 1.2772191543594046e+17)\n"
     ]
    }
   ],
   "source": [
    "# Check the model\n",
    "y_pred_test=lm.predict(X_test)\n",
    "print(\"Training set RMSE:\",np.sqrt(metrics.mean_squared_error(y_test, y_pred_test)))"
   ]
  },
  {
   "cell_type": "code",
   "execution_count": null,
   "metadata": {
    "collapsed": true
   },
   "outputs": [],
   "source": []
  },
  {
   "cell_type": "markdown",
   "metadata": {},
   "source": [
    "The model is still waaaaaaay off. It seems that number of features is roughly equal to the number of rows. Imputing values is not a good option, since the majority of the dataset is missing plausible values for the thing we want to predict, i.e. salary. If I want to do an analysis for analyst only positions, I may need to get a bigger dataset with more positions. \n",
    "\n",
    "Also, since there are  only categorical variables here, perhaps linear regression doesn't make sense. Let's try decision trees."
   ]
  },
  {
   "cell_type": "code",
   "execution_count": 218,
   "metadata": {},
   "outputs": [
    {
     "name": "stdout",
     "output_type": "stream",
     "text": [
      "('Decision Tree RMSE:', 50792.984195320598)\n"
     ]
    },
    {
     "data": {
      "image/png": "[encoded data removed]",
      "text/plain": [
       "<IPython.core.display.Image object>"
      ]
     },
     "execution_count": 218,
     "metadata": {},
     "output_type": "execute_result"
    }
   ],
   "source": [
    "## Use a decision tree to look at what variables are most important\n",
    "#use the same train/test split to run a decision tree\n",
    "decision_tree = DecisionTreeRegressor(max_depth=2, random_state=2)\n",
    "decision_tree.fit(X_train_1,y_train_1)\n",
    "print(\"Decision Tree RMSE:\",np.sqrt(metrics.mean_squared_error(y_test_1,decision_tree.predict(X_test_1))))\n",
    "\n",
    "#This allows us to make a decision tree real fast directly in the notebook!\n",
    "dot_data = StringIO()  \n",
    "export_graphviz(decision_tree, out_file=dot_data,  \n",
    "                    feature_names=X_train_1.columns.tolist(),  \n",
    "                    filled=True, rounded=True,  \n",
    "                    special_characters=True)  \n",
    "graph = pydotplus.graph_from_dot_data(dot_data.getvalue())  \n",
    "Image(graph.create_png())  "
   ]
  },
  {
   "cell_type": "code",
   "execution_count": 219,
   "metadata": {},
   "outputs": [
    {
     "name": "stdout",
     "output_type": "stream",
     "text": [
      "('Decision Tree Train/Test RMSE:', 39823.081512617457, ' ', 51301.181085353623)\n",
      "('Decision Tree Train/Test RMSE:', 39243.452250354989, ' ', 50792.984195320591)\n",
      "('Decision Tree Train/Test RMSE:', 38560.946870660424, ' ', 50408.8254114952)\n",
      "('Decision Tree Train/Test RMSE:', 38001.106823876806, ' ', 50508.344943675998)\n",
      "('Decision Tree Train/Test RMSE:', 37569.180743939862, ' ', 50324.948391172577)\n",
      "('Decision Tree Train/Test RMSE:', 37158.144926587272, ' ', 50562.205571394603)\n",
      "('Decision Tree Train/Test RMSE:', 36704.660989830765, ' ', 50656.139851573069)\n",
      "('Decision Tree Train/Test RMSE:', 36238.137609552003, ' ', 50377.118390291726)\n",
      "('Decision Tree Train/Test RMSE:', 36029.384010784888, ' ', 50250.797639415367)\n"
     ]
    },
    {
     "data": {
      "text/plain": [
       "<matplotlib.legend.Legend at 0x21c1b6d8>"
      ]
     },
     "execution_count": 219,
     "metadata": {},
     "output_type": "execute_result"
    },
    {
     "data": {
      "image/png": "[encoded data removed]",
      "text/plain": [
       "<matplotlib.figure.Figure at 0x13020b70>"
      ]
     },
     "metadata": {},
     "output_type": "display_data"
    }
   ],
   "source": [
    "depths = range(1,10)\n",
    "train_rmse, test_rmse = [],[]\n",
    "for depth in depths:\n",
    "    decision_tree = DecisionTreeRegressor(max_depth=depth,random_state=10)\n",
    "    decision_tree.fit(X_train_1,y_train_1)\n",
    "    curr_train_rmse = np.sqrt(metrics.mean_squared_error(y_train_1,decision_tree.predict(X_train_1)))\n",
    "    curr_test_rmse = np.sqrt(metrics.mean_squared_error(y_test_1,decision_tree.predict(X_test_1)))\n",
    "    print(\"Decision Tree Train/Test RMSE:\",curr_train_rmse,\" \",curr_test_rmse)\n",
    "    train_rmse.append(curr_train_rmse)\n",
    "    test_rmse.append(curr_test_rmse)\n",
    "sns.mpl.pyplot.plot(depths,train_rmse,label='train_rmse')\n",
    "sns.mpl.pyplot.plot(depths,test_rmse,label='test_rmse')\n",
    "sns.mpl.pyplot.xlabel(\"maximum tree depth\")\n",
    "sns.mpl.pyplot.ylabel(\"rmse - lower is better\")\n",
    "sns.mpl.pyplot.legend()"
   ]
  },
  {
   "cell_type": "markdown",
   "metadata": {},
   "source": [
    "The RMSE is several orders of magnitude lower when using decision trees as compared to linear regression. Therefore, it could be that it's a better fit for this dataset. However, the rmse is still pretty large. The decision tree turned up something in the data, however. It seems that there are some values for sector that are not actually sectors (e.g. EntryLevel). I will remove these offending values, and compare the results of linear regression and decision trees."
   ]
  },
  {
   "cell_type": "code",
   "execution_count": 225,
   "metadata": {},
   "outputs": [
    {
     "name": "stderr",
     "output_type": "stream",
     "text": [
      "C:\\Users\\daherg\\AppData\\Local\\Continuum\\Anaconda2\\lib\\site-packages\\ipykernel_launcher.py:3: UserWarning: Boolean Series key will be reindexed to match DataFrame index.\n",
      "  This is separate from the ipykernel package so we can avoid doing imports until\n"
     ]
    },
    {
     "name": "stdout",
     "output_type": "stream",
     "text": [
      "('Decision Tree RMSE:', 39847.921686125912)\n"
     ]
    },
    {
     "ename": "InvocationException",
     "evalue": "Program terminated with status: 1. stderr follows: Error: not well-formed (invalid token) in line 1 \r\n... <HTML>sector_Biotech/R&D/Science &le; 0.5 ...\r\nin label of node 3\r\n",
     "output_type": "error",
     "traceback": [
      "\u001b[1;31m---------------------------------------------------------------------------\u001b[0m",
      "\u001b[1;31mInvocationException\u001b[0m                       Traceback (most recent call last)",
      "\u001b[1;32m<ipython-input-225-fbb457498eb5>\u001b[0m in \u001b[0;36m<module>\u001b[1;34m()\u001b[0m\n\u001b[0;32m     25\u001b[0m                     special_characters=True)  \n\u001b[0;32m     26\u001b[0m \u001b[0mgraph\u001b[0m \u001b[1;33m=\u001b[0m \u001b[0mpydotplus\u001b[0m\u001b[1;33m.\u001b[0m\u001b[0mgraph_from_dot_data\u001b[0m\u001b[1;33m(\u001b[0m\u001b[0mdot_data\u001b[0m\u001b[1;33m.\u001b[0m\u001b[0mgetvalue\u001b[0m\u001b[1;33m(\u001b[0m\u001b[1;33m)\u001b[0m\u001b[1;33m)\u001b[0m\u001b[1;33m\u001b[0m\u001b[0m\n\u001b[1;32m---> 27\u001b[1;33m \u001b[0mImage\u001b[0m\u001b[1;33m(\u001b[0m\u001b[0mgraph\u001b[0m\u001b[1;33m.\u001b[0m\u001b[0mcreate_png\u001b[0m\u001b[1;33m(\u001b[0m\u001b[1;33m)\u001b[0m\u001b[1;33m)\u001b[0m\u001b[1;33m\u001b[0m\u001b[0m\n\u001b[0m",
      "\u001b[1;32mC:\\Users\\daherg\\AppData\\Local\\Continuum\\Anaconda2\\lib\\site-packages\\pydotplus\\graphviz.pyc\u001b[0m in \u001b[0;36m<lambda>\u001b[1;34m(f, prog)\u001b[0m\n\u001b[0;32m   1795\u001b[0m             self.__setattr__(\n\u001b[0;32m   1796\u001b[0m                 \u001b[1;34m'create_'\u001b[0m \u001b[1;33m+\u001b[0m \u001b[0mfrmt\u001b[0m\u001b[1;33m,\u001b[0m\u001b[1;33m\u001b[0m\u001b[0m\n\u001b[1;32m-> 1797\u001b[1;33m                 \u001b[1;32mlambda\u001b[0m \u001b[0mf\u001b[0m\u001b[1;33m=\u001b[0m\u001b[0mfrmt\u001b[0m\u001b[1;33m,\u001b[0m \u001b[0mprog\u001b[0m\u001b[1;33m=\u001b[0m\u001b[0mself\u001b[0m\u001b[1;33m.\u001b[0m\u001b[0mprog\u001b[0m\u001b[1;33m:\u001b[0m \u001b[0mself\u001b[0m\u001b[1;33m.\u001b[0m\u001b[0mcreate\u001b[0m\u001b[1;33m(\u001b[0m\u001b[0mformat\u001b[0m\u001b[1;33m=\u001b[0m\u001b[0mf\u001b[0m\u001b[1;33m,\u001b[0m \u001b[0mprog\u001b[0m\u001b[1;33m=\u001b[0m\u001b[0mprog\u001b[0m\u001b[1;33m)\u001b[0m\u001b[1;33m\u001b[0m\u001b[0m\n\u001b[0m\u001b[0;32m   1798\u001b[0m             )\n\u001b[0;32m   1799\u001b[0m             \u001b[0mf\u001b[0m \u001b[1;33m=\u001b[0m \u001b[0mself\u001b[0m\u001b[1;33m.\u001b[0m\u001b[0m__dict__\u001b[0m\u001b[1;33m[\u001b[0m\u001b[1;34m'create_'\u001b[0m \u001b[1;33m+\u001b[0m \u001b[0mfrmt\u001b[0m\u001b[1;33m]\u001b[0m\u001b[1;33m\u001b[0m\u001b[0m\n",
      "\u001b[1;32mC:\\Users\\daherg\\AppData\\Local\\Continuum\\Anaconda2\\lib\\site-packages\\pydotplus\\graphviz.pyc\u001b[0m in \u001b[0;36mcreate\u001b[1;34m(self, prog, format)\u001b[0m\n\u001b[0;32m   2030\u001b[0m             raise InvocationException(\n\u001b[0;32m   2031\u001b[0m                 'Program terminated with status: %d. stderr follows: %s' % (\n\u001b[1;32m-> 2032\u001b[1;33m                     status, stderr_output))\n\u001b[0m\u001b[0;32m   2033\u001b[0m         \u001b[1;32melif\u001b[0m \u001b[0mstderr_output\u001b[0m\u001b[1;33m:\u001b[0m\u001b[1;33m\u001b[0m\u001b[0m\n\u001b[0;32m   2034\u001b[0m             \u001b[1;32mprint\u001b[0m\u001b[1;33m(\u001b[0m\u001b[0mstderr_output\u001b[0m\u001b[1;33m)\u001b[0m\u001b[1;33m\u001b[0m\u001b[0m\n",
      "\u001b[1;31mInvocationException\u001b[0m: Program terminated with status: 1. stderr follows: Error: not well-formed (invalid token) in line 1 \r\n... <HTML>sector_Biotech/R&D/Science &le; 0.5 ...\r\nin label of node 3\r\n"
     ]
    }
   ],
   "source": [
    "#remove the offending values from the dataset\n",
    "data_cleaned=data[pd.notnull(data.sector)&pd.notnull(data.state)]\n",
    "data_cleaned=data_cleaned[(data_cleaned.sector!='Executive(SVPVPDepartmentHeadetc)')&(data_cleaned.sector!='Other')&(data_cleaned.sector!='EntryLevel')& (data_cleaned.sector!=\"Student(Undergraduate/Graduate)\" )& (data_cleaned.sector!=\"Student(HighSchool)\")& (data_cleaned.sector!=\"CareerLevelExperienced(Non-Manager)\")& (data_cleaned.sector!=\"CareerLevelEntryLevel\")&(data.sector!='Experienced(Non-Manager)')]\n",
    "\n",
    "#re-run the model\n",
    "\n",
    "# Try the model using upper and lower ranges rather than midpoint\n",
    "df3=pd.get_dummies(data_cleaned[['state','sector']],drop_first=True)\n",
    "\n",
    "\n",
    "y2=data_cleaned['midpoint_salary']\n",
    "\n",
    "# Split into training and test set\n",
    "X_train_2, X_test_2, y_train_2,y_test_2 = train_test_split(df3,y2,test_size=.22)\n",
    "\n",
    "decision_tree = DecisionTreeRegressor(max_depth=4, random_state=2)\n",
    "decision_tree.fit(X_train_2,y_train_2)\n",
    "print(\"Decision Tree RMSE:\",np.sqrt(metrics.mean_squared_error(y_test_2,decision_tree.predict(X_test_2))))\n",
    "\n",
    "#This allows us to make a decision tree real fast directly in the notebook!\n",
    "dot_data = StringIO()  \n",
    "export_graphviz(decision_tree, out_file=dot_data,  \n",
    "                    feature_names=X_train_2.columns.tolist(),  \n",
    "                    filled=True, rounded=True,  \n",
    "                    special_characters=True)  \n",
    "graph = pydotplus.graph_from_dot_data(dot_data.getvalue())  \n",
    "Image(graph.create_png())  "
   ]
  },
  {
   "cell_type": "code",
   "execution_count": 226,
   "metadata": {},
   "outputs": [
    {
     "name": "stdout",
     "output_type": "stream",
     "text": [
      "('Training set RMSE:', 37978.532186682736)\n"
     ]
    }
   ],
   "source": [
    "# Try ridge regression for collinear variables\n",
    "clf=Ridge()\n",
    "clf.fit(X_train_2,y_train_2)\n",
    "y_pred_test=clf.predict(X_test_2)\n",
    "print(\"Training set RMSE:\",np.sqrt(metrics.mean_squared_error(y_test_2, y_pred_test)))"
   ]
  },
  {
   "cell_type": "code",
   "execution_count": 173,
   "metadata": {},
   "outputs": [
    {
     "data": {
      "text/plain": [
       "array(['BuildingConstruction/SkilledTrades',\n",
       "       'Manager(Manager/SupervisorofStaff)', 'CustomerSupport/ClientCare',\n",
       "       'Accounting/Finance/Insurance', 'IT/SoftwareDevelopment',\n",
       "       'Administrative/Clerical', 'Business/StrategicManagement',\n",
       "       'Security/ProtectiveServices', 'Sales/Retail/BusinessDevelopment',\n",
       "       'Medical/Health', 'HumanResources',\n",
       "       'Executive(SVPVPDepartmentHeadetc)', 'Biotech/R&D/Science',\n",
       "       'QualityAssurance/Safety', 'General/Other:FoodServices',\n",
       "       'FoodServices/Hospitality', 'Manufacturing/Production/Operations',\n",
       "       'Project/ProgramManagement', 'Marketing/Product', 'Legal',\n",
       "       'Engineering', 'SystemsAnalysis-ITWeb/UI/UXDesign',\n",
       "       'AccountManagement(Commissioned)InsuranceAgent/BrokerFinancialProductsSales/Brokerage',\n",
       "       'Installation/Maintenance/Repair', 'Logistics/Transportation',\n",
       "       'General/Other:Medical/HealthVeterinary/AnimalCare',\n",
       "       'Veterinary/AnimalCare', 'Banking/RealEstate/MortgageProfessionals',\n",
       "       'Editorial/Writing', 'DesktopServiceandSupport',\n",
       "       'InsuranceAgent/BrokerGeneral/Other:Sales/BusinessDevelopmentFinancialProductsSales/Brokerage',\n",
       "       'DatabaseDevelopment/Administration',\n",
       "       'ITProjectManagementGeneral/Other:Project/ProgramManagementProjectManagement',\n",
       "       'SystemsAnalysis-IT', 'General/Other:Accounting/Finance',\n",
       "       'General/Other:IT/SoftwareDevelopment'], dtype=object)"
      ]
     },
     "execution_count": 173,
     "metadata": {},
     "output_type": "execute_result"
    }
   ],
   "source": [
    "data_cleaned.sector.unique()"
   ]
  },
  {
   "cell_type": "code",
   "execution_count": 164,
   "metadata": {},
   "outputs": [],
   "source": [
    "data_cleaned=data_cleaned[(data_cleaned.sector!='EntryLevel')& (data_cleaned.sector!=\"Student(Undergraduate/Graduate)\" )]"
   ]
  },
  {
   "cell_type": "code",
   "execution_count": null,
   "metadata": {
    "collapsed": true
   },
   "outputs": [],
   "source": []
  }
 ],
 "metadata": {
  "kernelspec": {
   "display_name": "Python 2",
   "language": "python",
   "name": "python2"
  },
  "language_info": {
   "codemirror_mode": {
    "name": "ipython",
    "version": 2
   },
   "file_extension": ".py",
   "mimetype": "text/x-python",
   "name": "python",
   "nbconvert_exporter": "python",
   "pygments_lexer": "ipython2",
   "version": "2.7.13"
  }
 },
 "nbformat": 4,
 "nbformat_minor": 2
}
