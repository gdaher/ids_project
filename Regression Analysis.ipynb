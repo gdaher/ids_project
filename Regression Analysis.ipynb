{
 "cells": [
  {
   "cell_type": "code",
   "execution_count": 192,
   "metadata": {
    "collapsed": true
   },
   "outputs": [],
   "source": [
    "## Import libraries\n",
    "#general\n",
    "import pandas as pd\n",
    "import os\n",
    "import numpy as np\n",
    "from sklearn import tree\n",
    "import graphviz\n",
    "from sklearn.tree import DecisionTreeRegressor\n",
    "from sklearn.ensemble import BaggingRegressor, RandomForestRegressor\n",
    "from sklearn.linear_model import LinearRegression\n",
    "from sklearn.model_selection import train_test_split\n",
    "from sklearn import metrics\n",
    "from sklearn.preprocessing import LabelEncoder\n",
    "from sklearn.preprocessing import OneHotEncoder\n",
    "import scipy.stats as stats\n",
    "import re\n",
    "from sklearn.externals.six import StringIO\n",
    "\n",
    "\n",
    "#visualization\n",
    "%matplotlib inline\n",
    "import seaborn as sns\n",
    "import matplotlib.pyplot as plt\n",
    "from IPython.display import Image\n",
    "import pydotplus\n",
    "from sklearn.tree import export_graphviz"
   ]
  },
  {
   "cell_type": "code",
   "execution_count": 172,
   "metadata": {},
   "outputs": [
    {
     "data": {
      "text/plain": [
       "Index([u'country', u'country_code', u'date_added', u'has_expired',\n",
       "       u'job_board', u'job_description', u'job_title', u'job_type',\n",
       "       u'location', u'organization', u'page_url', u'salary', u'sector',\n",
       "       u'uniq_id'],\n",
       "      dtype='object')"
      ]
     },
     "execution_count": 172,
     "metadata": {},
     "output_type": "execute_result"
    }
   ],
   "source": [
    "## Read in data\n",
    "data = pd.read_csv('monster_com-job_sample.csv')\n",
    "data.columns"
   ]
  },
  {
   "cell_type": "code",
   "execution_count": 174,
   "metadata": {
    "collapsed": true
   },
   "outputs": [],
   "source": [
    "## Parse salary data and prepare dataset\n",
    "#data['numbers']=''\n",
    "data['yearly'] = ''\n",
    "data['hourly'] =''\n",
    "data['full_time']=''\n",
    "data['part_time']=''\n",
    "data['analyst']=''\n",
    "\n",
    "for index in data.salary.index:\n",
    "\n",
    "    #data['numbers'][index]=bool(re.match(r'([0-9]+[^0-9]+)',str(data.salary[index])))\n",
    "    data['yearly'][index]=bool(re.search('\\$ /year',str(data.salary[index])))\n",
    "    data['hourly'][index]=bool(re.search('\\$ /hour',str(data.salary[index])))\n",
    "    data['full_time'][index]=bool(re.search('Full Time',str(data.job_type[index])))\n",
    "    data['part_time'][index]=bool(re.search('(part)|(Part)',str(data.job_type[index])))\n",
    "    data['analyst'][index]=bool(re.search('(analyst)|(Analyst)',str(data.job_title[index])))\n",
    "\n",
    "#extract salary ranges\n",
    "ranges=data.salary.str.extract(r'([0-9\\.\\,\\s]+.\\-[0-9\\.\\,\\s]+)',expand=True).rename(columns={0:'ranges'})\n",
    "data=data.join(ranges)\n",
    "\n",
    "#extract numbers\n",
    "numbers=data.salary.str.extract(r'([0-9]+\\s)',expand=True,).rename(columns={0:'numbers'})\n",
    "data=data.join(numbers)\n",
    "\n",
    "#parse salary ranges\n",
    "df=data['ranges'].str.split('-',expand=True).rename(columns={0:'lowest',1:'highest'})\n",
    "data=data.join(df)\n",
    "\n",
    "#convert columns to numeric\n",
    "numeric=pd.Index([u'lowest',u'highest',u'numbers'])\n",
    "\n",
    "for i in numeric:\n",
    "    data[i]=data[i].str.replace(' ','')\n",
    "    data[i]=data[i].str.replace(',','')\n",
    "    data[i]=pd.to_numeric(data[i])\n",
    "\n",
    "\n",
    "\n"
   ]
  },
  {
   "cell_type": "code",
   "execution_count": 175,
   "metadata": {},
   "outputs": [
    {
     "name": "stderr",
     "output_type": "stream",
     "text": [
      "/Applications/anaconda/lib/python2.7/site-packages/ipykernel_launcher.py:6: SettingWithCopyWarning: \n",
      "A value is trying to be set on a copy of a slice from a DataFrame\n",
      "\n",
      "See the caveats in the documentation: http://pandas.pydata.org/pandas-docs/stable/indexing.html#indexing-view-versus-copy\n",
      "  \n",
      "/Applications/anaconda/lib/python2.7/site-packages/ipykernel_launcher.py:8: SettingWithCopyWarning: \n",
      "A value is trying to be set on a copy of a slice from a DataFrame\n",
      "\n",
      "See the caveats in the documentation: http://pandas.pydata.org/pandas-docs/stable/indexing.html#indexing-view-versus-copy\n",
      "  \n"
     ]
    }
   ],
   "source": [
    "#convert units of hours into units of years\n",
    "for index in data.salary.index:\n",
    "        for i in numeric:\n",
    "            if (data.hourly[index]==True):\n",
    "                if(data.part_time[index]==False):\n",
    "                    data[i][index]=data[i][index]*40*52\n",
    "                else:\n",
    "                   data[i][index]=data[i][index]*20*52"
   ]
  },
  {
   "cell_type": "code",
   "execution_count": 176,
   "metadata": {},
   "outputs": [
    {
     "name": "stderr",
     "output_type": "stream",
     "text": [
      "/Applications/anaconda/lib/python2.7/site-packages/ipykernel_launcher.py:7: SettingWithCopyWarning: \n",
      "A value is trying to be set on a copy of a slice from a DataFrame\n",
      "\n",
      "See the caveats in the documentation: http://pandas.pydata.org/pandas-docs/stable/indexing.html#indexing-view-versus-copy\n",
      "  import sys\n"
     ]
    }
   ],
   "source": [
    "#get midpoint data for ranges\n",
    "data['midpoint_salary']=(data['lowest']+data['highest'])/2\n",
    "\n",
    "#add non-range salaries to midpoints column\n",
    "for index in data.salary.index:\n",
    "    if(pd.isnull(data.ranges[index])&pd.notnull(data.numbers[index])):\n",
    "        data.midpoint_salary[index]=data.numbers[index]\n",
    "\n",
    "#remove nan's\n",
    "data=data.dropna(subset=['midpoint_salary'])\n",
    "\n",
    "#only yearly and hourly salary\n",
    "data=data[data.yearly|data.hourly]"
   ]
  },
  {
   "cell_type": "code",
   "execution_count": 177,
   "metadata": {
    "collapsed": true
   },
   "outputs": [],
   "source": [
    "#only include non-bogus salaries. The lowest possible minimum wage job in the US pays at least $7/hour\n",
    "part_time_min=7*20*52\n",
    "full_time_min=7*40*52\n",
    "\n",
    "# filter out any salaries lower than $7/hour\n",
    "data=data[((data.lowest>=part_time_min)&(data.highest>=part_time_min)&(data.part_time==True))|((data.lowest>=full_time_min)&(data.highest>=full_time_min)&(data.part_time==False))]\n",
    "\n",
    "# filter out any salaries larger than $9,000,000 a year. Jobs claiming to pay more than that on a job board site would be a bit suspect.\n",
    "data=data[data.highest<=9000000]\n",
    "\n",
    "# filter out only salaries in the US, our country of interest.\n",
    "data=data[data.country_code=='US']\n",
    "\n",
    "# make states column\n",
    "states=r'(AK|AL|AR|AZ|CA|CO|CT|DE|FL|GA|HI|IA|ID|IL|IN|KS|KY|LA|MA|MD|ME|MI|MN|MO|MS|MT|NC|ND|NE|NH|NJ|NM|NV|NY|OH|OK|OR|PA|RI|SC|SD|TN|TX|UT|VA|VT|WA|WI|WV|WY)'\n",
    "\n",
    "state=data.location.str.extract(states,expand=True,).rename(columns={0:'state'})\n",
    "data=data.join(state)\n",
    "\n"
   ]
  },
  {
   "cell_type": "code",
   "execution_count": 178,
   "metadata": {
    "collapsed": true
   },
   "outputs": [],
   "source": [
    "#fix sector information\n",
    "i='sector'\n",
    "\n",
    "data['sector']=data['sector'].str.replace(' ','')\n",
    "data['sector']=data['sector'].str.replace(',','')\n"
   ]
  },
  {
   "cell_type": "code",
   "execution_count": 179,
   "metadata": {},
   "outputs": [
    {
     "name": "stdout",
     "output_type": "stream",
     "text": [
      "('max:', 945360.0)\n",
      "('min:', 9100.0)\n"
     ]
    }
   ],
   "source": [
    "#check min and max salaries\n",
    "print('max:',data.midpoint_salary.max())\n",
    "print('min:',data.midpoint_salary.min())\n",
    "#data.sort_values(by='midpoint_salary',ascending=False)"
   ]
  },
  {
   "cell_type": "code",
   "execution_count": null,
   "metadata": {
    "collapsed": true
   },
   "outputs": [],
   "source": []
  },
  {
   "cell_type": "code",
   "execution_count": 180,
   "metadata": {
    "collapsed": true
   },
   "outputs": [],
   "source": [
    "# remove data point 7194, as it is highly unlikely that a picker/packer makes $900/hour\n",
    "data=data.drop(7194)"
   ]
  },
  {
   "cell_type": "code",
   "execution_count": 181,
   "metadata": {},
   "outputs": [
    {
     "name": "stdout",
     "output_type": "stream",
     "text": [
      "('coefficient: ', array([  1.04927134e+04,   8.97468255e+03,  -2.24583596e+04,\n",
      "         8.58186581e+03,  -3.07058700e+03,   1.50148159e+03,\n",
      "        -6.95754672e+03,  -1.30015231e+04,  -2.26101594e+04,\n",
      "        -7.30910197e+03,  -1.33939838e+04,   9.23041301e+03,\n",
      "        -7.76145121e+03,  -4.33700804e+03,   4.75984723e+02,\n",
      "        -1.99322563e+03,   3.16149595e+04,   2.79287633e+03,\n",
      "         2.69827755e+03,   4.33135943e+03,   7.06333364e+03,\n",
      "        -8.34648863e+03,  -5.71444936e+02,  -7.32849995e+04,\n",
      "         1.69043553e+04,   4.04181044e+04,  -2.23174908e+04,\n",
      "        -1.41815350e+04,   8.28029211e+03,   1.61109262e+04,\n",
      "         1.80478569e+03,   1.73307559e+04,  -5.83547311e+03,\n",
      "        -1.36738755e+04,  -1.16629215e+04,   2.10914894e+03,\n",
      "        -1.73777113e+04,   4.55311284e+03,  -2.57519213e+04,\n",
      "        -1.92089091e+04,   4.10655175e+03,   4.10174264e+03,\n",
      "         4.14696410e+03,   6.24413892e+03,  -7.86250605e+03,\n",
      "        -9.54028232e+03,   3.44714656e+04,   1.03887240e+17,\n",
      "        -9.05791447e+03,  -2.93864277e+04,  -3.00547021e+04,\n",
      "         7.68727836e+03,   1.33133848e+04,  -6.00362524e+03,\n",
      "        -5.16191362e+04,  -4.35261997e+04,  -3.07542696e+04,\n",
      "         4.02915892e+04,  -2.76626316e+03,   1.21739877e+04,\n",
      "        -3.36881428e+04,   3.66387506e+03,  -2.86306165e+04,\n",
      "         5.87634619e+04,  -1.04880513e+04,  -1.77069871e+04,\n",
      "         8.93798331e+03,  -1.50138154e+04,  -3.42520775e+11,\n",
      "        -2.46495208e+03,  -1.13121810e+04,   3.33678226e+04,\n",
      "        -4.74012027e+09,  -2.87353194e+04,   6.99013577e+03,\n",
      "        -1.25526751e+04,  -4.00288761e+04,   1.97907814e+03,\n",
      "        -2.50730027e+04,   6.30558776e+03,  -4.40978422e+03,\n",
      "        -4.40000000e+01,   8.62058603e+03,  -2.00985418e+03,\n",
      "        -1.85748213e+02,  -3.17422168e+04,  -1.49133734e+04,\n",
      "        -3.39515281e+04,  -1.11990167e+04,   2.99350892e+04,\n",
      "        -1.91912021e+04,  -2.83702429e+04]))\n",
      "('intercept: ', 69517.501076478249)\n",
      "('Training set RMSE:', 4466461303327982.5)\n"
     ]
    }
   ],
   "source": [
    "## Prepare data for linear model and run\n",
    "\n",
    "#onehotencode variables using dummies and separate out dependent and independent features\n",
    "df=pd.get_dummies(data[['state','sector']],drop_first=False)\n",
    "df1=pd.get_dummies(data['part_time'],drop_first=True)\n",
    "df=df.join(df1)\n",
    "y=data['midpoint_salary']\n",
    "\n",
    "#split into training and test set\n",
    "X_train, X_test, y_train,y_test = train_test_split(df,y,test_size=.22)\n",
    "\n",
    "#run model\n",
    "lm=LinearRegression()\n",
    "lm.fit(X_train,y_train)\n",
    "\n",
    "print('coefficient: ',lm.coef_)\n",
    "print('intercept: ',lm.intercept_) \n",
    "y_pred_test=lm.predict(X_test)\n",
    "\n",
    "print(\"Training set RMSE:\",np.sqrt(metrics.mean_squared_error(y_test, y_pred_test)))"
   ]
  },
  {
   "cell_type": "code",
   "execution_count": null,
   "metadata": {
    "collapsed": true
   },
   "outputs": [],
   "source": []
  },
  {
   "cell_type": "code",
   "execution_count": null,
   "metadata": {
    "collapsed": true
   },
   "outputs": [],
   "source": []
  },
  {
   "cell_type": "code",
   "execution_count": null,
   "metadata": {
    "collapsed": true
   },
   "outputs": [],
   "source": []
  },
  {
   "cell_type": "markdown",
   "metadata": {},
   "source": [
    "The linear regression model doesn't seem to work terribly well for this dataset, (at least when you apply it to the whole dataset), even if you include whether or not a job is part-time. Perhaps filtering by the type of position would help."
   ]
  },
  {
   "cell_type": "code",
   "execution_count": 182,
   "metadata": {
    "collapsed": true
   },
   "outputs": [],
   "source": [
    "# only include analyst positions\n",
    "data2=data[data.analyst==True]\n"
   ]
  },
  {
   "cell_type": "code",
   "execution_count": 183,
   "metadata": {},
   "outputs": [
    {
     "data": {
      "text/plain": [
       "LinearRegression(copy_X=True, fit_intercept=True, n_jobs=1, normalize=False)"
      ]
     },
     "execution_count": 183,
     "metadata": {},
     "output_type": "execute_result"
    }
   ],
   "source": [
    "# onehotencode variables using dummies and separate out dependent and independent features\n",
    "df2=pd.get_dummies(data2[['state','sector']],drop_first=True)\n",
    "df=pd.get_dummies(data2['part_time'],drop_first=True)\n",
    "df2=df2.join(df)\n",
    "y=data2['midpoint_salary']\n",
    "\n",
    "# Split into training and test set\n",
    "X_train, X_test, y_train,y_test = train_test_split(df2,y,test_size=.22)\n",
    "\n",
    "# run model\n",
    "lm=LinearRegression()\n",
    "lm.fit(X_train,y_train)"
   ]
  },
  {
   "cell_type": "code",
   "execution_count": 184,
   "metadata": {},
   "outputs": [
    {
     "name": "stdout",
     "output_type": "stream",
     "text": [
      "('coefficient: ', array([  5.62853262e+03,   4.31755573e+03,  -1.87289076e+04,\n",
      "        -1.53344538e+04,   1.33630924e+04,   9.51445765e+03,\n",
      "         3.92859729e+04,   1.31332719e+05,   2.36859729e+04,\n",
      "        -2.65244538e+04,   1.58859729e+04,  -3.06689076e+04,\n",
      "         3.85143460e+04,   2.29172859e+04,   0.00000000e+00,\n",
      "         9.47162939e+03,   3.01271848e+04,  -1.45519152e-11,\n",
      "         7.71308338e+03,   4.33859729e+04,   1.38859729e+04,\n",
      "         3.16902060e-12,  -6.50261935e+04,  -3.87433653e+04,\n",
      "        -2.21148805e+04,  -1.30991329e-11,   3.63797881e-12,\n",
      "        -8.79609244e+03,  -4.56619910e+04,  -6.74000000e+03,\n",
      "         0.00000000e+00,  -1.53344538e+04,  -1.65419910e+04,\n",
      "         0.00000000e+00,  -2.65244538e+04]))\n",
      "('intercept: ', 71228.907639791534)\n"
     ]
    }
   ],
   "source": [
    "# Check the model\n",
    "print('coefficient: ',lm.coef_)\n",
    "print('intercept: ',lm.intercept_) \n",
    "y_pred_test=lm.predict(X_test)"
   ]
  },
  {
   "cell_type": "code",
   "execution_count": 185,
   "metadata": {},
   "outputs": [
    {
     "name": "stdout",
     "output_type": "stream",
     "text": [
      "('Training set RMSE:', 154814.47977396622)\n"
     ]
    },
    {
     "data": {
      "text/plain": [
       "(107, 25)"
      ]
     },
     "execution_count": 185,
     "metadata": {},
     "output_type": "execute_result"
    }
   ],
   "source": [
    "print(\"Training set RMSE:\",np.sqrt(metrics.mean_squared_error(y_test, y_pred_test)))\n",
    "data2.shape"
   ]
  },
  {
   "cell_type": "markdown",
   "metadata": {},
   "source": [
    "The model is still waaaaaaay off. It seems that number of features is roughly equal to the number of rows. Imputing values is not a good option, since the majority of the dataset is missing plausible values for the thing we want to predict, i.e. salary. Also, since there are  only categorical variables here, linear regression doesn't make sense."
   ]
  },
  {
   "cell_type": "code",
   "execution_count": 208,
   "metadata": {},
   "outputs": [
    {
     "name": "stdout",
     "output_type": "stream",
     "text": [
      "('Decision Tree RMSE:', 32142.853447919435)\n"
     ]
    }
   ],
   "source": [
    "## Use a decision tree to look at what variables are most important\n",
    "\n",
    "# Try the model using upper and lower ranges rather than midpoint\n",
    "df3=pd.get_dummies(data[['state','sector']],drop_first=True)\n",
    "df=pd.get_dummies(data['part_time'],drop_first=True)\n",
    "df3=df3.join(df)\n",
    "\n",
    "\n",
    "y2=data['midpoint_salary']\n",
    "\n",
    "# Split into training and test set\n",
    "X_train, X_test, y_train,y_test = train_test_split(df3,y2,test_size=.22)\n",
    "\n",
    "decision_tree = DecisionTreeRegressor(max_depth=6, random_state=1)\n",
    "decision_tree.fit(X_train,y_train)\n",
    "print(\"Decision Tree RMSE:\",np.sqrt(metrics.mean_squared_error(y_test,decision_tree.predict(X_test))))"
   ]
  },
  {
   "cell_type": "code",
   "execution_count": 199,
   "metadata": {},
   "outputs": [
    {
     "name": "stdout",
     "output_type": "stream",
     "text": [
      "('Decision Tree Train/Test RMSE:', 39862.283903281575, ' ', 51237.041857004107)\n",
      "('Decision Tree Train/Test RMSE:', 38984.143086099379, ' ', 50591.820820955792)\n",
      "('Decision Tree Train/Test RMSE:', 38353.49913751438, ' ', 49894.856561585904)\n",
      "('Decision Tree Train/Test RMSE:', 37904.993342841211, ' ', 49523.628886148494)\n",
      "('Decision Tree Train/Test RMSE:', 37435.399544536791, ' ', 49083.738843821135)\n",
      "('Decision Tree Train/Test RMSE:', 36971.046366138129, ' ', 49012.53806850913)\n",
      "('Decision Tree Train/Test RMSE:', 36514.78563436988, ' ', 49302.191210116725)\n",
      "('Decision Tree Train/Test RMSE:', 36086.117628279877, ' ', 49320.913964857027)\n",
      "('Decision Tree Train/Test RMSE:', 35663.024050151442, ' ', 49364.56853604802)\n"
     ]
    },
    {
     "data": {
      "text/plain": [
       "<matplotlib.legend.Legend at 0x113b2b810>"
      ]
     },
     "execution_count": 199,
     "metadata": {},
     "output_type": "execute_result"
    },
    {
     "data": {
      "image/png": "[encoded data removed]",
      "text/plain": [
       "<matplotlib.figure.Figure at 0x114a19a10>"
      ]
     },
     "metadata": {},
     "output_type": "display_data"
    }
   ],
   "source": [
    "depths = range(1,10)\n",
    "train_rmse, test_rmse = [],[]\n",
    "for depth in depths:\n",
    "    decision_tree = DecisionTreeRegressor(max_depth=depth,random_state=10)\n",
    "    decision_tree.fit(X_train,y_train)\n",
    "    curr_train_rmse = np.sqrt(metrics.mean_squared_error(y_train,decision_tree.predict(X_train)))\n",
    "    curr_test_rmse = np.sqrt(metrics.mean_squared_error(y_test,decision_tree.predict(X_test)))\n",
    "    print(\"Decision Tree Train/Test RMSE:\",curr_train_rmse,\" \",curr_test_rmse)\n",
    "    train_rmse.append(curr_train_rmse)\n",
    "    test_rmse.append(curr_test_rmse)\n",
    "sns.mpl.pyplot.plot(depths,train_rmse,label='train_rmse')\n",
    "sns.mpl.pyplot.plot(depths,test_rmse,label='test_rmse')\n",
    "sns.mpl.pyplot.xlabel(\"maximum tree depth\")\n",
    "sns.mpl.pyplot.ylabel(\"rmse - lower is better\")\n",
    "sns.mpl.pyplot.legend()"
   ]
  },
  {
   "cell_type": "markdown",
   "metadata": {},
   "source": [
    "The RMSE is several orders of magnitude lower when using decision trees as compared to linear regression. Therefore, it could be that it's a better fit for this dataset. However, the rmse is still pretty large. One of the issues complicating the matter is that values such as sector seem to have the wrong category of information e.g. Manager, which is not a sector."
   ]
  },
  {
   "cell_type": "code",
   "execution_count": null,
   "metadata": {
    "collapsed": true
   },
   "outputs": [],
   "source": [
    "## Can you use sector and location to predict analyst salary range?(using linear regression)\n",
    "# Transform strings into numbers\n",
    "#le=LabelEncoder()\n",
    "#le.fit(data['sector'].unique())\n",
    "#data['sector_label']=le.transform(data['sector'])\n",
    "# Encode sector and location with one hot encoder\n",
    "#enc = OneHotEncoder()\n",
    "#enc.fit(data.sector_label)\n",
    "#enc.transform(data.sector_label)\n",
    "\n",
    "\n",
    "\n",
    "\n",
    "# from: https://marcotcr.github.io/lime/tutorials/Tutorial%20-%20continuous%20and%20categorical%20features.html\n",
    "categorical_features = ['sector','location']\n",
    "categorical_names = {}\n",
    "for feature in categorical_features:\n",
    "    le = LabelEncoder()\n",
    "    le.fit(data[feature])\n",
    "    data[feature] = le.transform(data[feature])\n",
    "\n",
    "en=OneHotEncoder(categorical_features=categorical_features)\n",
    "en.fit(data)\n",
    "enc.transform(data)\n"
   ]
  },
  {
   "cell_type": "code",
   "execution_count": null,
   "metadata": {
    "collapsed": true
   },
   "outputs": [],
   "source": []
  },
  {
   "cell_type": "code",
   "execution_count": null,
   "metadata": {
    "collapsed": true
   },
   "outputs": [],
   "source": []
  },
  {
   "cell_type": "code",
   "execution_count": null,
   "metadata": {
    "collapsed": true
   },
   "outputs": [],
   "source": []
  },
  {
   "cell_type": "code",
   "execution_count": null,
   "metadata": {
    "collapsed": true
   },
   "outputs": [],
   "source": [
    "\n"
   ]
  }
 ],
 "metadata": {
  "kernelspec": {
   "display_name": "Python 2",
   "language": "python",
   "name": "python2"
  },
  "language_info": {
   "codemirror_mode": {
    "name": "ipython",
    "version": 2
   },
   "file_extension": ".py",
   "mimetype": "text/x-python",
   "name": "python",
   "nbconvert_exporter": "python",
   "pygments_lexer": "ipython2",
   "version": "2.7.13"
  }
 },
 "nbformat": 4,
 "nbformat_minor": 2
}
